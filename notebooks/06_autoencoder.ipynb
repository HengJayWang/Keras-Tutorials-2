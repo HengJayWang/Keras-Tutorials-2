{
 "cells": [
  {
   "cell_type": "markdown",
   "metadata": {},
   "source": [
    "# Autoencoders\n",
    "\n",
    "In this notebook, I borrow heavily from [the Keras blog](https://blog.keras.io/building-autoencoders-in-keras.html). So rather than sprinkling references to the Keras blog throughout the notebook, just assume I stole it from [Francois Chollet](https://twitter.com/fchollet). Because open source or something.\n",
    "\n",
    "![stole from Keras blog](https://blog.keras.io/img/ae/autoencoder_schema.jpg)\n",
    "\n",
    "So, autoencoders. They're legit. They do perform data compression but not in the JPEG or MPEG way -- these fellas make some broad assumptions about images, sound, and video and apply compression based on the assumptions.\n",
    "\n",
    "Autoencoders **learn** (automatically) a lossy compression based on the data examples fed in. So the compression is specific to those examples.\n",
    "\n",
    "## What's Required\n",
    "\n",
    "Autoencoders require 3 things:\n",
    "\n",
    "1. Encoding function\n",
    "2. Decoding function\n",
    "3. Loss function describing the amount of information loss between the compressed and decompressed representations of the data examples and the decompressed representation (i.e. a \"loss\" function).\n",
    "\n",
    "The encoding/decoding functions are typically (parametric) neural nets and are differentiable with respect to the distance function. The differentiable part enables optimizing the parameters of the encoding/decoding functions to minimize the reconstruction loss.\n",
    "\n",
    "## What Are They Good For\n",
    "\n",
    "1. Data Denoising\n",
    "2. Dimension Reduction\n",
    "3. Data Visualization (basically the same as 2, but plots)\n",
    "\n",
    "For data denoising, think PCA, but nonlinear. In fact, if the encoder/decoder functions are linear, the result spans the space of the PCA solution. The nonlinear part is useful because they can capture, for example, multimodality in the feature space, which PCA can't.\n",
    "\n",
    "Dimension reduction is a direct result of the lossy compression of the algorithm. It can help with denoising and **pre-training** before building another ML algorithm. But is the compression good enough to replace JPEG or MPEG? Nope. And probably not anytime soon. But maybe one day."
   ]
  },
  {
   "cell_type": "code",
   "execution_count": 1,
   "metadata": {},
   "outputs": [
    {
     "name": "stderr",
     "output_type": "stream",
     "text": [
      "Using TensorFlow backend.\n"
     ]
    }
   ],
   "source": [
    "from IPython.display import Image, SVG\n",
    "import matplotlib.pyplot as plt\n",
    "\n",
    "%matplotlib inline\n",
    "\n",
    "import numpy as np\n",
    "import keras\n",
    "from keras.datasets import mnist\n",
    "from keras.models import Model, Sequential  # TODO: Rm Sequential?\n",
    "from keras.layers import Input, Dense\n",
    "from keras import regularizers"
   ]
  },
  {
   "cell_type": "markdown",
   "metadata": {},
   "source": [
    "# Data Loading and Preprocessing"
   ]
  },
  {
   "cell_type": "code",
   "execution_count": 2,
   "metadata": {
    "collapsed": true
   },
   "outputs": [],
   "source": [
    "# Loads the training and test data sets (ignoring class labels)\n",
    "(x_train, _), (x_test, _) = mnist.load_data()"
   ]
  },
  {
   "cell_type": "code",
   "execution_count": 3,
   "metadata": {
    "collapsed": true
   },
   "outputs": [],
   "source": [
    "# Scales the training and test data to range between 0 and 1.\n",
    "max_value = float(x_train.max())\n",
    "x_train = x_train.astype('float32') / max_value\n",
    "x_test = x_test.astype('float32') / max_value"
   ]
  },
  {
   "cell_type": "code",
   "execution_count": 4,
   "metadata": {},
   "outputs": [
    {
     "data": {
      "text/plain": [
       "(60000, 28, 28)"
      ]
     },
     "execution_count": 4,
     "metadata": {},
     "output_type": "execute_result"
    }
   ],
   "source": [
    "# 60K training 28 x 28 (pixel) images\n",
    "x_train.shape"
   ]
  },
  {
   "cell_type": "code",
   "execution_count": 5,
   "metadata": {},
   "outputs": [
    {
     "data": {
      "text/plain": [
       "(10000, 28, 28)"
      ]
     },
     "execution_count": 5,
     "metadata": {},
     "output_type": "execute_result"
    }
   ],
   "source": [
    "# 10K test 28 x 28 (pixel) images\n",
    "x_test.shape"
   ]
  },
  {
   "cell_type": "code",
   "execution_count": 6,
   "metadata": {},
   "outputs": [
    {
     "data": {
      "text/plain": [
       "((60000, 784), (10000, 784))"
      ]
     },
     "execution_count": 6,
     "metadata": {},
     "output_type": "execute_result"
    }
   ],
   "source": [
    "# Reshapes 28 x 28 images into vectors of length 784\n",
    "x_train = x_train.reshape((len(x_train), np.prod(x_train.shape[1:])))\n",
    "x_test = x_test.reshape((len(x_test), np.prod(x_test.shape[1:])))\n",
    "\n",
    "(x_train.shape, x_test.shape)"
   ]
  },
  {
   "cell_type": "code",
   "execution_count": 7,
   "metadata": {
    "collapsed": true
   },
   "outputs": [],
   "source": [
    "input_dim = x_train.shape[1]"
   ]
  },
  {
   "cell_type": "markdown",
   "metadata": {},
   "source": [
    "# Simple Autoencoder\n",
    "\n",
    "A single fully-connected neural layer as an encoder function and an decoder function."
   ]
  },
  {
   "cell_type": "code",
   "execution_count": 8,
   "metadata": {},
   "outputs": [
    {
     "name": "stdout",
     "output_type": "stream",
     "text": [
      "Compression factor: 24.5\n"
     ]
    }
   ],
   "source": [
    "# Size of our encoded representations\n",
    "encoding_dim = 32\n",
    "\n",
    "compression_factor = float(input_dim) / encoding_dim\n",
    "print(\"Compression factor: %s\" % compression_factor)\n",
    "\n",
    "# Input placeholder\n",
    "input_img = Input(shape=(input_dim,))\n",
    "\n",
    "# \"encoded\" is the encoded representation of the input\n",
    "encoded = Dense(encoding_dim, activation='relu')(input_img)\n",
    "# \"decoded\" is the lossy reconstruction of the input\n",
    "decoded = Dense(input_dim, activation='sigmoid')(encoded)\n",
    "\n",
    "# this model maps an input to its reconstruction\n",
    "autoencoder = Model(input_img, decoded)"
   ]
  },
  {
   "cell_type": "markdown",
   "metadata": {},
   "source": [
    "## Encoder Model"
   ]
  },
  {
   "cell_type": "code",
   "execution_count": 9,
   "metadata": {
    "collapsed": true
   },
   "outputs": [],
   "source": [
    "# this model maps an input to its encoded representation\n",
    "encoder = Model(input_img, encoded)"
   ]
  },
  {
   "cell_type": "markdown",
   "metadata": {},
   "source": [
    "## Decoder Model"
   ]
  },
  {
   "cell_type": "code",
   "execution_count": 10,
   "metadata": {
    "collapsed": true
   },
   "outputs": [],
   "source": [
    "# create a placeholder for an encoded (32-dimensional) input\n",
    "encoded_input = Input(shape=(encoding_dim,))\n",
    "# retrieve the last layer of the autoencoder model\n",
    "decoder_layer = autoencoder.layers[-1]\n",
    "# create the decoder model\n",
    "decoder = Model(encoded_input, decoder_layer(encoded_input))"
   ]
  },
  {
   "cell_type": "code",
   "execution_count": 11,
   "metadata": {},
   "outputs": [
    {
     "name": "stdout",
     "output_type": "stream",
     "text": [
      "Train on 60000 samples, validate on 10000 samples\n",
      "Epoch 1/50\n",
      "60000/60000 [==============================] - 6s - loss: 0.2745 - val_loss: 0.1855\n",
      "Epoch 2/50\n",
      "60000/60000 [==============================] - 7s - loss: 0.1696 - val_loss: 0.1547\n",
      "Epoch 3/50\n",
      "60000/60000 [==============================] - 6s - loss: 0.1453 - val_loss: 0.1345\n",
      "Epoch 4/50\n",
      "60000/60000 [==============================] - 7s - loss: 0.1289 - val_loss: 0.1214\n",
      "Epoch 5/50\n",
      "60000/60000 [==============================] - 6s - loss: 0.1182 - val_loss: 0.1130\n",
      "Epoch 6/50\n",
      "60000/60000 [==============================] - 7s - loss: 0.1110 - val_loss: 0.1069\n",
      "Epoch 7/50\n",
      "60000/60000 [==============================] - 7s - loss: 0.1057 - val_loss: 0.1023\n",
      "Epoch 8/50\n",
      "60000/60000 [==============================] - 7s - loss: 0.1018 - val_loss: 0.0991\n",
      "Epoch 9/50\n",
      "60000/60000 [==============================] - 6s - loss: 0.0991 - val_loss: 0.0969\n",
      "Epoch 10/50\n",
      "60000/60000 [==============================] - 6s - loss: 0.0973 - val_loss: 0.0954\n",
      "Epoch 11/50\n",
      "60000/60000 [==============================] - 6s - loss: 0.0961 - val_loss: 0.0945\n",
      "Epoch 12/50\n",
      "60000/60000 [==============================] - 6s - loss: 0.0953 - val_loss: 0.0938\n",
      "Epoch 13/50\n",
      "60000/60000 [==============================] - 6s - loss: 0.0948 - val_loss: 0.0934\n",
      "Epoch 14/50\n",
      "60000/60000 [==============================] - 6s - loss: 0.0944 - val_loss: 0.0931\n",
      "Epoch 15/50\n",
      "60000/60000 [==============================] - 7s - loss: 0.0942 - val_loss: 0.0928\n",
      "Epoch 16/50\n",
      "60000/60000 [==============================] - 6s - loss: 0.0940 - val_loss: 0.0927\n",
      "Epoch 17/50\n",
      "60000/60000 [==============================] - 6s - loss: 0.0938 - val_loss: 0.0926\n",
      "Epoch 18/50\n",
      "60000/60000 [==============================] - 6s - loss: 0.0937 - val_loss: 0.0924\n",
      "Epoch 19/50\n",
      "60000/60000 [==============================] - 6s - loss: 0.0936 - val_loss: 0.0923\n",
      "Epoch 20/50\n",
      "60000/60000 [==============================] - 7s - loss: 0.0934 - val_loss: 0.0922\n",
      "Epoch 21/50\n",
      "60000/60000 [==============================] - 7s - loss: 0.0934 - val_loss: 0.0923\n",
      "Epoch 22/50\n",
      "60000/60000 [==============================] - 6s - loss: 0.0933 - val_loss: 0.0922\n",
      "Epoch 23/50\n",
      "60000/60000 [==============================] - 6s - loss: 0.0933 - val_loss: 0.0921\n",
      "Epoch 24/50\n",
      "60000/60000 [==============================] - 6s - loss: 0.0932 - val_loss: 0.0920\n",
      "Epoch 25/50\n",
      "60000/60000 [==============================] - 6s - loss: 0.0932 - val_loss: 0.0920\n",
      "Epoch 26/50\n",
      "60000/60000 [==============================] - 7s - loss: 0.0931 - val_loss: 0.0919\n",
      "Epoch 27/50\n",
      "60000/60000 [==============================] - 7s - loss: 0.0931 - val_loss: 0.0920\n",
      "Epoch 28/50\n",
      "60000/60000 [==============================] - 7s - loss: 0.0930 - val_loss: 0.0918\n",
      "Epoch 29/50\n",
      "60000/60000 [==============================] - 7s - loss: 0.0930 - val_loss: 0.0919\n",
      "Epoch 30/50\n",
      "60000/60000 [==============================] - 7s - loss: 0.0930 - val_loss: 0.0919\n",
      "Epoch 31/50\n",
      "60000/60000 [==============================] - 7s - loss: 0.0930 - val_loss: 0.0918\n",
      "Epoch 32/50\n",
      "60000/60000 [==============================] - 6s - loss: 0.0930 - val_loss: 0.0918\n",
      "Epoch 33/50\n",
      "60000/60000 [==============================] - 7s - loss: 0.0929 - val_loss: 0.0917\n",
      "Epoch 34/50\n",
      "60000/60000 [==============================] - 5s - loss: 0.0929 - val_loss: 0.0917\n",
      "Epoch 35/50\n",
      "60000/60000 [==============================] - 6s - loss: 0.0929 - val_loss: 0.0917\n",
      "Epoch 36/50\n",
      "60000/60000 [==============================] - 7s - loss: 0.0929 - val_loss: 0.0917\n",
      "Epoch 37/50\n",
      "60000/60000 [==============================] - 6s - loss: 0.0928 - val_loss: 0.0917\n",
      "Epoch 38/50\n",
      "60000/60000 [==============================] - 6s - loss: 0.0928 - val_loss: 0.0917\n",
      "Epoch 39/50\n",
      "60000/60000 [==============================] - 6s - loss: 0.0928 - val_loss: 0.0917\n",
      "Epoch 40/50\n",
      "60000/60000 [==============================] - 7s - loss: 0.0928 - val_loss: 0.0916\n",
      "Epoch 41/50\n",
      "60000/60000 [==============================] - 7s - loss: 0.0928 - val_loss: 0.0917\n",
      "Epoch 42/50\n",
      "60000/60000 [==============================] - 7s - loss: 0.0928 - val_loss: 0.0916\n",
      "Epoch 43/50\n",
      "60000/60000 [==============================] - 7s - loss: 0.0927 - val_loss: 0.0916\n",
      "Epoch 44/50\n",
      "60000/60000 [==============================] - 6s - loss: 0.0927 - val_loss: 0.0916\n",
      "Epoch 45/50\n",
      "60000/60000 [==============================] - 6s - loss: 0.0927 - val_loss: 0.0917\n",
      "Epoch 46/50\n",
      "60000/60000 [==============================] - 6s - loss: 0.0927 - val_loss: 0.0916\n",
      "Epoch 47/50\n",
      "60000/60000 [==============================] - 6s - loss: 0.0927 - val_loss: 0.0915\n",
      "Epoch 48/50\n",
      "60000/60000 [==============================] - 7s - loss: 0.0927 - val_loss: 0.0916\n",
      "Epoch 49/50\n",
      "60000/60000 [==============================] - 6s - loss: 0.0927 - val_loss: 0.0916\n",
      "Epoch 50/50\n",
      "60000/60000 [==============================] - 6s - loss: 0.0926 - val_loss: 0.0916\n"
     ]
    },
    {
     "data": {
      "text/plain": [
       "<keras.callbacks.History at 0x7f8648e1b510>"
      ]
     },
     "execution_count": 11,
     "metadata": {},
     "output_type": "execute_result"
    }
   ],
   "source": [
    "# Trains the model, iterating on the training data in batches of 256 in 50 epochs.\n",
    "# Using the Adam optimizer and per-pixel binary crossentropy loss.\n",
    "autoencoder.compile(optimizer='adam', loss='binary_crossentropy')\n",
    "autoencoder.fit(x_train, x_train,\n",
    "                epochs=50,\n",
    "                batch_size=256,\n",
    "                shuffle=True,\n",
    "                validation_data=(x_test, x_test))"
   ]
  },
  {
   "cell_type": "code",
   "execution_count": 12,
   "metadata": {},
   "outputs": [
    {
     "data": {
      "text/plain": [
       "8.70998"
      ]
     },
     "execution_count": 12,
     "metadata": {},
     "output_type": "execute_result"
    }
   ],
   "source": [
    "# encode and decode some digits from the test set\n",
    "encoded_imgs = encoder.predict(x_test)\n",
    "decoded_imgs = decoder.predict(encoded_imgs)\n",
    "\n",
    "encoded_imgs.mean()"
   ]
  },
  {
   "cell_type": "code",
   "execution_count": 13,
   "metadata": {},
   "outputs": [
    {
     "data": {
      "image/png": "[encoded data removed]",
      "text/plain": [
       "<matplotlib.figure.Figure at 0x7f8647ce1910>"
      ]
     },
     "metadata": {},
     "output_type": "display_data"
    }
   ],
   "source": [
    "# Number of digits to display\n",
    "n = 10  \n",
    "plt.figure(figsize=(18, 4))\n",
    "\n",
    "for i in range(n):\n",
    "    # plot original image\n",
    "    ax = plt.subplot(3, n, i + 1)\n",
    "    plt.imshow(x_test[i].reshape(28, 28))\n",
    "    plt.gray()\n",
    "    ax.get_xaxis().set_visible(False)\n",
    "    ax.get_yaxis().set_visible(False)\n",
    "    \n",
    "    # plot encoded image\n",
    "    ax = plt.subplot(3, n, n + i + 1)\n",
    "    plt.imshow(encoded_imgs[i].reshape(8, 4))\n",
    "    plt.gray()\n",
    "    ax.get_xaxis().set_visible(False)\n",
    "    ax.get_yaxis().set_visible(False)\n",
    "\n",
    "    # plot reconstructed image\n",
    "    ax = plt.subplot(3, n, 2*n + i + 1)\n",
    "    plt.imshow(decoded_imgs[i].reshape(28, 28))\n",
    "    plt.gray()\n",
    "    ax.get_xaxis().set_visible(False)\n",
    "    ax.get_yaxis().set_visible(False)\n",
    "plt.show()"
   ]
  },
  {
   "cell_type": "markdown",
   "metadata": {},
   "source": [
    "# Deep Autoencoder\n",
    "\n",
    "Instead of limiting ourselves to a single fully-connected neural layer, we can stack multiple layers in the encoder and decoder functions.\n",
    "\n",
    "The reconstructed digits look much better than those from the single-layer autoencoder."
   ]
  },
  {
   "cell_type": "code",
   "execution_count": 44,
   "metadata": {},
   "outputs": [
    {
     "name": "stdout",
     "output_type": "stream",
     "text": [
      "Compression factor: 24.5\n"
     ]
    }
   ],
   "source": [
    "encoding_dim = 32\n",
    "\n",
    "compression_factor = float(input_dim) / encoding_dim\n",
    "print(\"Compression factor: %s\" % compression_factor)\n",
    "\n",
    "input_img = Input(shape=(input_dim,))\n",
    "encoded = Dense(128, activation='relu')(input_img)\n",
    "encoded = Dense(64, activation='relu')(encoded)\n",
    "encoded = Dense(encoding_dim, activation='relu')(encoded)\n",
    "\n",
    "decoded = Dense(64, activation='relu')(encoded)\n",
    "decoded = Dense(128, activation='relu')(decoded)\n",
    "decoded = Dense(input_dim, activation='sigmoid')(decoded)\n",
    "\n",
    "autoencoder = Model(input_img, decoded)"
   ]
  },
  {
   "cell_type": "markdown",
   "metadata": {},
   "source": [
    "## Encoder Model"
   ]
  },
  {
   "cell_type": "code",
   "execution_count": 45,
   "metadata": {
    "collapsed": true
   },
   "outputs": [],
   "source": [
    "# Maps an input image to its encoded representation\n",
    "encoder = Model(input_img, encoded)"
   ]
  },
  {
   "cell_type": "markdown",
   "metadata": {},
   "source": [
    "## Decoder Model"
   ]
  },
  {
   "cell_type": "code",
   "execution_count": 46,
   "metadata": {},
   "outputs": [],
   "source": [
    "# create a placeholder for an encoded (32-dimensional) input\n",
    "decoded_input = Input(shape=(encoding_dim,))\n",
    "\n",
    "# retrieve the last 3 layers of the autoencoder model to get the decoder layers\n",
    "decoder_layer1 = autoencoder.layers[-3]\n",
    "decoder_layer2 = autoencoder.layers[-2]\n",
    "decoder_layer3 = autoencoder.layers[-1]\n",
    "decoder_layers = decoder_layer3(decoder_layer2(decoder_layer1(encoded_input)))\n",
    "\n",
    "# create the decoder model\n",
    "decoder = Model(encoded_input, decoder_layers)"
   ]
  },
  {
   "cell_type": "code",
   "execution_count": 47,
   "metadata": {},
   "outputs": [
    {
     "name": "stdout",
     "output_type": "stream",
     "text": [
      "Train on 60000 samples, validate on 10000 samples\n",
      "Epoch 1/50\n",
      "60000/60000 [==============================] - 10s - loss: 0.2419 - val_loss: 0.1688\n",
      "Epoch 2/50\n",
      "60000/60000 [==============================] - 9s - loss: 0.1521 - val_loss: 0.1387\n",
      "Epoch 3/50\n",
      "60000/60000 [==============================] - 10s - loss: 0.1344 - val_loss: 0.1287\n",
      "Epoch 4/50\n",
      "60000/60000 [==============================] - 10s - loss: 0.1254 - val_loss: 0.1198\n",
      "Epoch 5/50\n",
      "60000/60000 [==============================] - 10s - loss: 0.1187 - val_loss: 0.1147\n",
      "Epoch 6/50\n",
      "60000/60000 [==============================] - 10s - loss: 0.1139 - val_loss: 0.1103\n",
      "Epoch 7/50\n",
      "60000/60000 [==============================] - 10s - loss: 0.1104 - val_loss: 0.1077\n",
      "Epoch 8/50\n",
      "60000/60000 [==============================] - 10s - loss: 0.1081 - val_loss: 0.1057\n",
      "Epoch 9/50\n",
      "60000/60000 [==============================] - 10s - loss: 0.1059 - val_loss: 0.1038\n",
      "Epoch 10/50\n",
      "60000/60000 [==============================] - 10s - loss: 0.1041 - val_loss: 0.1020\n",
      "Epoch 11/50\n",
      "60000/60000 [==============================] - 10s - loss: 0.1026 - val_loss: 0.1006\n",
      "Epoch 12/50\n",
      "60000/60000 [==============================] - 10s - loss: 0.1010 - val_loss: 0.0991\n",
      "Epoch 13/50\n",
      "60000/60000 [==============================] - 10s - loss: 0.0996 - val_loss: 0.0977\n",
      "Epoch 14/50\n",
      "60000/60000 [==============================] - 10s - loss: 0.0987 - val_loss: 0.0971\n",
      "Epoch 15/50\n",
      "60000/60000 [==============================] - 10s - loss: 0.0978 - val_loss: 0.0963\n",
      "Epoch 16/50\n",
      "60000/60000 [==============================] - 10s - loss: 0.0969 - val_loss: 0.0961\n",
      "Epoch 17/50\n",
      "60000/60000 [==============================] - 10s - loss: 0.0963 - val_loss: 0.0953\n",
      "Epoch 18/50\n",
      "60000/60000 [==============================] - 10s - loss: 0.0958 - val_loss: 0.0948\n",
      "Epoch 19/50\n",
      "60000/60000 [==============================] - 10s - loss: 0.0952 - val_loss: 0.0937\n",
      "Epoch 20/50\n",
      "60000/60000 [==============================] - 10s - loss: 0.0947 - val_loss: 0.0940\n",
      "Epoch 21/50\n",
      "60000/60000 [==============================] - 10s - loss: 0.0943 - val_loss: 0.0932\n",
      "Epoch 22/50\n",
      "60000/60000 [==============================] - 10s - loss: 0.0939 - val_loss: 0.0931\n",
      "Epoch 23/50\n",
      "60000/60000 [==============================] - 9s - loss: 0.0936 - val_loss: 0.0929\n",
      "Epoch 24/50\n",
      "60000/60000 [==============================] - 10s - loss: 0.0932 - val_loss: 0.0928\n",
      "Epoch 25/50\n",
      "60000/60000 [==============================] - 11s - loss: 0.0928 - val_loss: 0.0916\n",
      "Epoch 26/50\n",
      "60000/60000 [==============================] - 9s - loss: 0.0924 - val_loss: 0.0915\n",
      "Epoch 27/50\n",
      "60000/60000 [==============================] - 9s - loss: 0.0920 - val_loss: 0.0917\n",
      "Epoch 28/50\n",
      "60000/60000 [==============================] - 11s - loss: 0.0917 - val_loss: 0.0906\n",
      "Epoch 29/50\n",
      "60000/60000 [==============================] - 12s - loss: 0.0914 - val_loss: 0.0913\n",
      "Epoch 30/50\n",
      "60000/60000 [==============================] - 12s - loss: 0.0911 - val_loss: 0.0901\n",
      "Epoch 31/50\n",
      "60000/60000 [==============================] - 12s - loss: 0.0907 - val_loss: 0.0903\n",
      "Epoch 32/50\n",
      "60000/60000 [==============================] - 12s - loss: 0.0903 - val_loss: 0.0896\n",
      "Epoch 33/50\n",
      "60000/60000 [==============================] - 12s - loss: 0.0900 - val_loss: 0.0892\n",
      "Epoch 34/50\n",
      "60000/60000 [==============================] - 12s - loss: 0.0897 - val_loss: 0.0890\n",
      "Epoch 35/50\n",
      "60000/60000 [==============================] - 12s - loss: 0.0895 - val_loss: 0.0887\n",
      "Epoch 36/50\n",
      "60000/60000 [==============================] - 12s - loss: 0.0892 - val_loss: 0.0887\n",
      "Epoch 37/50\n",
      "60000/60000 [==============================] - 12s - loss: 0.0890 - val_loss: 0.0880\n",
      "Epoch 38/50\n",
      "60000/60000 [==============================] - 9s - loss: 0.0887 - val_loss: 0.0883\n",
      "Epoch 39/50\n",
      "60000/60000 [==============================] - 8s - loss: 0.0886 - val_loss: 0.0878\n",
      "Epoch 40/50\n",
      "60000/60000 [==============================] - 10s - loss: 0.0884 - val_loss: 0.0878\n",
      "Epoch 41/50\n",
      "60000/60000 [==============================] - 8s - loss: 0.0882 - val_loss: 0.0878\n",
      "Epoch 42/50\n",
      "60000/60000 [==============================] - 9s - loss: 0.0880 - val_loss: 0.0872\n",
      "Epoch 43/50\n",
      "60000/60000 [==============================] - 11s - loss: 0.0878 - val_loss: 0.0872\n",
      "Epoch 44/50\n",
      "60000/60000 [==============================] - 11s - loss: 0.0877 - val_loss: 0.0869\n",
      "Epoch 45/50\n",
      "60000/60000 [==============================] - 11s - loss: 0.0876 - val_loss: 0.0872\n",
      "Epoch 46/50\n",
      "60000/60000 [==============================] - 10s - loss: 0.0875 - val_loss: 0.0876\n",
      "Epoch 47/50\n",
      "60000/60000 [==============================] - 10s - loss: 0.0873 - val_loss: 0.0871\n",
      "Epoch 48/50\n",
      "60000/60000 [==============================] - 10s - loss: 0.0872 - val_loss: 0.0871\n",
      "Epoch 49/50\n",
      "60000/60000 [==============================] - 10s - loss: 0.0870 - val_loss: 0.0867\n",
      "Epoch 50/50\n",
      "60000/60000 [==============================] - 10s - loss: 0.0870 - val_loss: 0.0868\n"
     ]
    },
    {
     "data": {
      "text/plain": [
       "<keras.callbacks.History at 0x7f8636fbb750>"
      ]
     },
     "execution_count": 47,
     "metadata": {},
     "output_type": "execute_result"
    }
   ],
   "source": [
    "# Trains the model, iterating on the training data in batches of 256 in 50 epochs.\n",
    "# Using the Adam optimizer and per-pixel binary crossentropy loss.\n",
    "autoencoder.compile(optimizer='adam', loss='binary_crossentropy')\n",
    "autoencoder.fit(x_train, x_train,\n",
    "                epochs=50,\n",
    "                batch_size=256,\n",
    "                validation_data=(x_test, x_test))"
   ]
  },
  {
   "cell_type": "code",
   "execution_count": 76,
   "metadata": {},
   "outputs": [],
   "source": [
    "# encode and decode some digits from the test set\n",
    "encoded_imgs = encoder.predict(x_test)\n",
    "decoded_imgs = decoder.predict(encoded_imgs)"
   ]
  },
  {
   "cell_type": "code",
   "execution_count": 77,
   "metadata": {},
   "outputs": [
    {
     "data": {
      "text/plain": [
       "16.699591"
      ]
     },
     "execution_count": 77,
     "metadata": {},
     "output_type": "execute_result"
    }
   ],
   "source": [
    "encoded_imgs.mean()"
   ]
  },
  {
   "cell_type": "code",
   "execution_count": 75,
   "metadata": {},
   "outputs": [
    {
     "data": {
      "image/png": "[encoded data removed]",
      "text/plain": [
       "<matplotlib.figure.Figure at 0x7f8635215dd0>"
      ]
     },
     "metadata": {},
     "output_type": "display_data"
    }
   ],
   "source": [
    "# Number of digits to display\n",
    "n = 10  \n",
    "plt.figure(figsize=(18, 4))\n",
    "\n",
    "for i in range(n):\n",
    "    # plot original image\n",
    "    ax = plt.subplot(3, n, i + 1)\n",
    "    plt.imshow(x_test[i].reshape(28, 28))\n",
    "    plt.gray()\n",
    "    ax.get_xaxis().set_visible(False)\n",
    "    ax.get_yaxis().set_visible(False)\n",
    "    \n",
    "    # plot encoded image\n",
    "    ax = plt.subplot(3, n, n + i + 1)\n",
    "    plt.imshow(encoded_imgs[i].reshape(8, 4))\n",
    "    plt.gray()\n",
    "    ax.get_xaxis().set_visible(False)\n",
    "    ax.get_yaxis().set_visible(False)\n",
    "\n",
    "    # plot reconstructed image\n",
    "    ax = plt.subplot(3, n, 2*n + i + 1)\n",
    "    plt.imshow(decoded_imgs[i].reshape(28, 28))\n",
    "    plt.gray()\n",
    "    ax.get_xaxis().set_visible(False)\n",
    "    ax.get_yaxis().set_visible(False)\n",
    "plt.show()"
   ]
  }
 ],
 "metadata": {
  "kernelspec": {
   "display_name": "Python 2",
   "language": "python",
   "name": "python2"
  },
  "language_info": {
   "codemirror_mode": {
    "name": "ipython",
    "version": 2
   },
   "file_extension": ".py",
   "mimetype": "text/x-python",
   "name": "python",
   "nbconvert_exporter": "python",
   "pygments_lexer": "ipython2",
   "version": "2.7.12"
  }
 },
 "nbformat": 4,
 "nbformat_minor": 2
}
