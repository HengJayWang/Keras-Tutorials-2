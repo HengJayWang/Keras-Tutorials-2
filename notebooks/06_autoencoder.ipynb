{
 "cells": [
  {
   "cell_type": "markdown",
   "metadata": {},
   "source": [
    "# Autoencoders\n",
    "\n",
    "In this notebook, I borrow heavily from [the Keras blog](https://blog.keras.io/building-autoencoders-in-keras.html). So rather than sprinkling references to the Keras blog throughout the notebook, just assume I stole it from [Francois Chollet](https://twitter.com/fchollet). Because open source or something.\n",
    "\n",
    "![stole from Keras blog](https://blog.keras.io/img/ae/autoencoder_schema.jpg)\n",
    "\n",
    "So, autoencoders. They're legit. They do perform data compression but not in the JPEG or MPEG way -- these fellas make some broad assumptions about images, sound, and video and apply compression based on the assumptions.\n",
    "\n",
    "Autoencoders **learn** (automatically) a lossy compression based on the data examples fed in. So the compression is specific to those examples.\n",
    "\n",
    "## What's Required\n",
    "\n",
    "Autoencoders require 3 things:\n",
    "\n",
    "1. Encoding function\n",
    "2. Decoding function\n",
    "3. Loss function describing the amount of information loss between the compressed and decompressed representations of the data examples and the decompressed representation (i.e. a \"loss\" function).\n",
    "\n",
    "The encoding/decoding functions are typically (parametric) neural nets and are differentiable with respect to the distance function. The differentiable part enables optimizing the parameters of the encoding/decoding functions to minimize the reconstruction loss.\n",
    "\n",
    "## What Are They Good For\n",
    "\n",
    "1. Data Denoising\n",
    "2. Dimension Reduction\n",
    "3. Data Visualization (basically the same as 2, but plots)\n",
    "\n",
    "For data denoising, think PCA, but nonlinear. In fact, if the encoder/decoder functions are linear, the result spans the space of the PCA solution. The nonlinear part is useful because they can capture, for example, multimodality in the feature space, which PCA can't.\n",
    "\n",
    "Dimension reduction is a direct result of the lossy compression of the algorithm. It can help with denoising and **pre-training** before building another ML algorithm. But is the compression good enough to replace JPEG or MPEG? Nope. And probably not anytime soon. But maybe one day."
   ]
  },
  {
   "cell_type": "code",
   "execution_count": 1,
   "metadata": {},
   "outputs": [
    {
     "name": "stderr",
     "output_type": "stream",
     "text": [
      "Using TensorFlow backend.\n"
     ]
    }
   ],
   "source": [
    "from IPython.display import Image, SVG\n",
    "import matplotlib.pyplot as plt\n",
    "\n",
    "%matplotlib inline\n",
    "\n",
    "import numpy as np\n",
    "import keras\n",
    "from keras.datasets import mnist\n",
    "from keras.models import Model, Sequential  # TODO: Rm Sequential?\n",
    "from keras.layers import Input, Dense"
   ]
  },
  {
   "cell_type": "markdown",
   "metadata": {},
   "source": [
    "# Data Loading and Preprocessing"
   ]
  },
  {
   "cell_type": "code",
   "execution_count": 2,
   "metadata": {},
   "outputs": [],
   "source": [
    "# Loads the training and test data sets (ignoring class labels)\n",
    "(x_train, _), (x_test, _) = mnist.load_data()"
   ]
  },
  {
   "cell_type": "code",
   "execution_count": 3,
   "metadata": {},
   "outputs": [],
   "source": [
    "# Scales the training and test data to range between 0 and 1.\n",
    "max_value = float(x_train.max())\n",
    "x_train = x_train.astype('float32') / max_value\n",
    "x_test = x_test.astype('float32') / max_value"
   ]
  },
  {
   "cell_type": "code",
   "execution_count": 4,
   "metadata": {},
   "outputs": [
    {
     "data": {
      "text/plain": [
       "(60000, 28, 28)"
      ]
     },
     "execution_count": 4,
     "metadata": {},
     "output_type": "execute_result"
    }
   ],
   "source": [
    "# 60K training 28 x 28 (pixel) images\n",
    "x_train.shape"
   ]
  },
  {
   "cell_type": "code",
   "execution_count": 5,
   "metadata": {},
   "outputs": [
    {
     "data": {
      "text/plain": [
       "(10000, 28, 28)"
      ]
     },
     "execution_count": 5,
     "metadata": {},
     "output_type": "execute_result"
    }
   ],
   "source": [
    "# 10K test 28 x 28 (pixel) images\n",
    "x_test.shape"
   ]
  },
  {
   "cell_type": "code",
   "execution_count": 6,
   "metadata": {},
   "outputs": [
    {
     "data": {
      "text/plain": [
       "((60000, 784), (10000, 784))"
      ]
     },
     "execution_count": 6,
     "metadata": {},
     "output_type": "execute_result"
    }
   ],
   "source": [
    "# Reshapes 28 x 28 images into vectors of length 784\n",
    "x_train = x_train.reshape((len(x_train), np.prod(x_train.shape[1:])))\n",
    "x_test = x_test.reshape((len(x_test), np.prod(x_test.shape[1:])))\n",
    "\n",
    "(x_train.shape, x_test.shape)"
   ]
  },
  {
   "cell_type": "code",
   "execution_count": 7,
   "metadata": {},
   "outputs": [],
   "source": [
    "input_dim = x_train.shape[1]"
   ]
  },
  {
   "cell_type": "markdown",
   "metadata": {},
   "source": [
    "# Simple Autoencoder\n",
    "\n",
    "A single fully-connected neural layer as an encoder function and an decoder function."
   ]
  },
  {
   "cell_type": "code",
   "execution_count": 8,
   "metadata": {},
   "outputs": [
    {
     "name": "stdout",
     "output_type": "stream",
     "text": [
      "Compression factor: 24.5\n"
     ]
    }
   ],
   "source": [
    "# Size of our encoded representations\n",
    "encoding_dim = 32\n",
    "\n",
    "compression_factor = float(input_dim) / encoding_dim\n",
    "print(\"Compression factor: %s\" % compression_factor)\n",
    "\n",
    "# Input placeholder\n",
    "input_img = Input(shape=(input_dim,))\n",
    "\n",
    "# \"encoded\" is the encoded representation of the input\n",
    "encoded = Dense(encoding_dim, activation='relu')(input_img)\n",
    "# \"decoded\" is the lossy reconstruction of the input\n",
    "decoded = Dense(input_dim, activation='sigmoid')(encoded)\n",
    "\n",
    "# this model maps an input to its reconstruction\n",
    "autoencoder = Model(input_img, decoded)"
   ]
  },
  {
   "cell_type": "markdown",
   "metadata": {},
   "source": [
    "## Encoder Model"
   ]
  },
  {
   "cell_type": "code",
   "execution_count": 9,
   "metadata": {
    "collapsed": true
   },
   "outputs": [],
   "source": [
    "# this model maps an input to its encoded representation\n",
    "encoder = Model(input_img, encoded)"
   ]
  },
  {
   "cell_type": "markdown",
   "metadata": {},
   "source": [
    "## Decoder Model"
   ]
  },
  {
   "cell_type": "code",
   "execution_count": 10,
   "metadata": {
    "collapsed": true
   },
   "outputs": [],
   "source": [
    "# create a placeholder for an encoded (32-dimensional) input\n",
    "encoded_input = Input(shape=(encoding_dim,))\n",
    "# retrieve the last layer of the autoencoder model\n",
    "decoder_layer = autoencoder.layers[-1]\n",
    "# create the decoder model\n",
    "decoder = Model(encoded_input, decoder_layer(encoded_input))"
   ]
  },
  {
   "cell_type": "code",
   "execution_count": 11,
   "metadata": {},
   "outputs": [
    {
     "name": "stdout",
     "output_type": "stream",
     "text": [
      "Train on 60000 samples, validate on 10000 samples\n",
      "Epoch 1/50\n",
      "60000/60000 [==============================] - 7s - loss: 0.3755 - val_loss: 0.2721\n",
      "Epoch 2/50\n",
      "60000/60000 [==============================] - 6s - loss: 0.2647 - val_loss: 0.2540\n",
      "Epoch 3/50\n",
      "60000/60000 [==============================] - 6s - loss: 0.2440 - val_loss: 0.2319\n",
      "Epoch 4/50\n",
      "60000/60000 [==============================] - 6s - loss: 0.2239 - val_loss: 0.2139\n",
      "Epoch 5/50\n",
      "60000/60000 [==============================] - 7s - loss: 0.2088 - val_loss: 0.2013\n",
      "Epoch 6/50\n",
      "60000/60000 [==============================] - 6s - loss: 0.1979 - val_loss: 0.1918\n",
      "Epoch 7/50\n",
      "60000/60000 [==============================] - 6s - loss: 0.1895 - val_loss: 0.1843\n",
      "Epoch 8/50\n",
      "60000/60000 [==============================] - 6s - loss: 0.1826 - val_loss: 0.1782\n",
      "Epoch 9/50\n",
      "60000/60000 [==============================] - 7s - loss: 0.1769 - val_loss: 0.1729\n",
      "Epoch 10/50\n",
      "60000/60000 [==============================] - 6s - loss: 0.1719 - val_loss: 0.1682\n",
      "Epoch 11/50\n",
      "60000/60000 [==============================] - 7s - loss: 0.1674 - val_loss: 0.1639\n",
      "Epoch 12/50\n",
      "60000/60000 [==============================] - 6s - loss: 0.1633 - val_loss: 0.1601\n",
      "Epoch 13/50\n",
      "60000/60000 [==============================] - 6s - loss: 0.1595 - val_loss: 0.1564\n",
      "Epoch 14/50\n",
      "60000/60000 [==============================] - 6s - loss: 0.1560 - val_loss: 0.1529\n",
      "Epoch 15/50\n",
      "60000/60000 [==============================] - 6s - loss: 0.1527 - val_loss: 0.1498\n",
      "Epoch 16/50\n",
      "60000/60000 [==============================] - 6s - loss: 0.1497 - val_loss: 0.1468\n",
      "Epoch 17/50\n",
      "60000/60000 [==============================] - 6s - loss: 0.1469 - val_loss: 0.1441\n",
      "Epoch 18/50\n",
      "60000/60000 [==============================] - 6s - loss: 0.1442 - val_loss: 0.1414\n",
      "Epoch 19/50\n",
      "60000/60000 [==============================] - 6s - loss: 0.1417 - val_loss: 0.1390\n",
      "Epoch 20/50\n",
      "60000/60000 [==============================] - 6s - loss: 0.1393 - val_loss: 0.1367\n",
      "Epoch 21/50\n",
      "60000/60000 [==============================] - 6s - loss: 0.1371 - val_loss: 0.1345\n",
      "Epoch 22/50\n",
      "60000/60000 [==============================] - 6s - loss: 0.1349 - val_loss: 0.1324\n",
      "Epoch 23/50\n",
      "60000/60000 [==============================] - 6s - loss: 0.1329 - val_loss: 0.1303\n",
      "Epoch 24/50\n",
      "60000/60000 [==============================] - 6s - loss: 0.1309 - val_loss: 0.1284\n",
      "Epoch 25/50\n",
      "60000/60000 [==============================] - 6s - loss: 0.1291 - val_loss: 0.1266\n",
      "Epoch 26/50\n",
      "60000/60000 [==============================] - 6s - loss: 0.1273 - val_loss: 0.1249\n",
      "Epoch 27/50\n",
      "60000/60000 [==============================] - 6s - loss: 0.1256 - val_loss: 0.1232\n",
      "Epoch 28/50\n",
      "60000/60000 [==============================] - 6s - loss: 0.1240 - val_loss: 0.1216\n",
      "Epoch 29/50\n",
      "60000/60000 [==============================] - 6s - loss: 0.1225 - val_loss: 0.1201\n",
      "Epoch 30/50\n",
      "60000/60000 [==============================] - 6s - loss: 0.1210 - val_loss: 0.1187\n",
      "Epoch 31/50\n",
      "60000/60000 [==============================] - 6s - loss: 0.1197 - val_loss: 0.1174\n",
      "Epoch 32/50\n",
      "60000/60000 [==============================] - 6s - loss: 0.1184 - val_loss: 0.1161\n",
      "Epoch 33/50\n",
      "60000/60000 [==============================] - 6s - loss: 0.1172 - val_loss: 0.1149\n",
      "Epoch 34/50\n",
      "60000/60000 [==============================] - 6s - loss: 0.1161 - val_loss: 0.1139\n",
      "Epoch 35/50\n",
      "60000/60000 [==============================] - 6s - loss: 0.1150 - val_loss: 0.1128\n",
      "Epoch 36/50\n",
      "60000/60000 [==============================] - 6s - loss: 0.1141 - val_loss: 0.1119\n",
      "Epoch 37/50\n",
      "60000/60000 [==============================] - 6s - loss: 0.1131 - val_loss: 0.1110\n",
      "Epoch 38/50\n",
      "60000/60000 [==============================] - 6s - loss: 0.1123 - val_loss: 0.1102\n",
      "Epoch 39/50\n",
      "60000/60000 [==============================] - 6s - loss: 0.1115 - val_loss: 0.1094\n",
      "Epoch 40/50\n",
      "60000/60000 [==============================] - 6s - loss: 0.1108 - val_loss: 0.1087\n",
      "Epoch 41/50\n",
      "60000/60000 [==============================] - 6s - loss: 0.1101 - val_loss: 0.1081\n",
      "Epoch 42/50\n",
      "60000/60000 [==============================] - 6s - loss: 0.1094 - val_loss: 0.1074\n",
      "Epoch 43/50\n",
      "60000/60000 [==============================] - 6s - loss: 0.1088 - val_loss: 0.1068\n",
      "Epoch 44/50\n",
      "60000/60000 [==============================] - 6s - loss: 0.1083 - val_loss: 0.1063\n",
      "Epoch 45/50\n",
      "60000/60000 [==============================] - 6s - loss: 0.1077 - val_loss: 0.1058\n",
      "Epoch 46/50\n",
      "60000/60000 [==============================] - 7s - loss: 0.1072 - val_loss: 0.1053\n",
      "Epoch 47/50\n",
      "60000/60000 [==============================] - 6s - loss: 0.1067 - val_loss: 0.1048\n",
      "Epoch 48/50\n",
      "60000/60000 [==============================] - 6s - loss: 0.1063 - val_loss: 0.1044\n",
      "Epoch 49/50\n",
      "60000/60000 [==============================] - 7s - loss: 0.1059 - val_loss: 0.1039\n",
      "Epoch 50/50\n",
      "60000/60000 [==============================] - 7s - loss: 0.1054 - val_loss: 0.1036\n"
     ]
    },
    {
     "data": {
      "text/plain": [
       "<keras.callbacks.History at 0x7fc88a337150>"
      ]
     },
     "execution_count": 11,
     "metadata": {},
     "output_type": "execute_result"
    }
   ],
   "source": [
    "# Trains the model, iterating on the training data in batches of 256 in 50 epochs.\n",
    "# Using the Adadelta optimizer and per-pixel binary crossentropy loss.\n",
    "autoencoder.compile(optimizer='adadelta', loss='binary_crossentropy')\n",
    "autoencoder.fit(x_train, x_train,\n",
    "                epochs=50,\n",
    "                batch_size=256,\n",
    "                shuffle=True,\n",
    "                validation_data=(x_test, x_test))"
   ]
  },
  {
   "cell_type": "code",
   "execution_count": 12,
   "metadata": {
    "collapsed": true
   },
   "outputs": [],
   "source": [
    "# encode and decode some digits\n",
    "# note that we take them from the *test* set\n",
    "encoded_imgs = encoder.predict(x_test)\n",
    "decoded_imgs = decoder.predict(encoded_imgs)"
   ]
  },
  {
   "cell_type": "code",
   "execution_count": 13,
   "metadata": {},
   "outputs": [
    {
     "data": {
      "image/png": "[encoded data removed]",
      "text/plain": [
       "<matplotlib.figure.Figure at 0x7fc88922df10>"
      ]
     },
     "metadata": {},
     "output_type": "display_data"
    }
   ],
   "source": [
    "# Number of digits to display\n",
    "n = 10  \n",
    "plt.figure(figsize=(20, 4))\n",
    "\n",
    "for i in range(n):\n",
    "    # display original\n",
    "    ax = plt.subplot(2, n, i + 1)\n",
    "    plt.imshow(x_test[i].reshape(28, 28))\n",
    "    plt.gray()\n",
    "    ax.get_xaxis().set_visible(False)\n",
    "    ax.get_yaxis().set_visible(False)\n",
    "\n",
    "    # display reconstruction\n",
    "    ax = plt.subplot(2, n, i + 1 + n)\n",
    "    plt.imshow(decoded_imgs[i].reshape(28, 28))\n",
    "    plt.gray()\n",
    "    ax.get_xaxis().set_visible(False)\n",
    "    ax.get_yaxis().set_visible(False)\n",
    "plt.show()"
   ]
  },
  {
   "cell_type": "code",
   "execution_count": null,
   "metadata": {
    "collapsed": true
   },
   "outputs": [],
   "source": []
  }
 ],
 "metadata": {
  "kernelspec": {
   "display_name": "Python 2",
   "language": "python",
   "name": "python2"
  },
  "language_info": {
   "codemirror_mode": {
    "name": "ipython",
    "version": 2
   },
   "file_extension": ".py",
   "mimetype": "text/x-python",
   "name": "python",
   "nbconvert_exporter": "python",
   "pygments_lexer": "ipython2",
   "version": "2.7.12"
  }
 },
 "nbformat": 4,
 "nbformat_minor": 2
}
