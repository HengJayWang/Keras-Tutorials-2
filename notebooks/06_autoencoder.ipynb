{
 "cells": [
  {
   "cell_type": "markdown",
   "metadata": {},
   "source": [
    "# Autoencoders\n",
    "\n",
    "In this notebook, I borrow heavily from [the Keras blog](https://blog.keras.io/building-autoencoders-in-keras.html). So rather than sprinkling references to the Keras blog throughout the notebook, just assume I stole it from [Francois Chollet](https://twitter.com/fchollet). Because open source or something.\n",
    "\n",
    "![stole from Keras blog](https://blog.keras.io/img/ae/autoencoder_schema.jpg)\n",
    "\n",
    "So, autoencoders. They're legit. They do perform data compression but not in the JPEG or MPEG way -- these fellas make some broad assumptions about images, sound, and video and apply compression based on the assumptions.\n",
    "\n",
    "Autoencoders **learn** (automatically) a lossy compression based on the data examples fed in. So the compression is specific to those examples.\n",
    "\n",
    "## What's Required\n",
    "\n",
    "Autoencoders require 3 things:\n",
    "\n",
    "1. Encoding function\n",
    "2. Decoding function\n",
    "3. Loss function describing the amount of information loss between the compressed and decompressed representations of the data examples and the decompressed representation (i.e. a \"loss\" function).\n",
    "\n",
    "The encoding/decoding functions are typically (parametric) neural nets and are differentiable with respect to the distance function. The differentiable part enables optimizing the parameters of the encoding/decoding functions to minimize the reconstruction loss.\n",
    "\n",
    "## What Are They Good For\n",
    "\n",
    "1. Data Denoising\n",
    "2. Dimension Reduction\n",
    "3. Data Visualization (basically the same as 2, but plots)\n",
    "\n",
    "For data denoising, think PCA, but nonlinear. In fact, if the encoder/decoder functions are linear, the result spans the space of the PCA solution. The nonlinear part is useful because they can capture, for example, multimodality in the feature space, which PCA can't.\n",
    "\n",
    "Dimension reduction is a direct result of the lossy compression of the algorithm. It can help with denoising and **pre-training** before building another ML algorithm. But is the compression good enough to replace JPEG or MPEG? Nope. And probably not anytime soon. But maybe one day."
   ]
  },
  {
   "cell_type": "code",
   "execution_count": 1,
   "metadata": {},
   "outputs": [
    {
     "name": "stderr",
     "output_type": "stream",
     "text": [
      "Using TensorFlow backend.\n"
     ]
    }
   ],
   "source": [
    "from IPython.display import Image, SVG\n",
    "import matplotlib.pyplot as plt\n",
    "\n",
    "%matplotlib inline\n",
    "\n",
    "import numpy as np\n",
    "import keras\n",
    "from keras.datasets import mnist\n",
    "from keras.models import Model\n",
    "from keras.layers import Input, Dense, Conv2D, MaxPooling2D, UpSampling2D\n",
    "from keras import regularizers"
   ]
  },
  {
   "cell_type": "markdown",
   "metadata": {},
   "source": [
    "# Data Loading and Preprocessing"
   ]
  },
  {
   "cell_type": "code",
   "execution_count": 2,
   "metadata": {
    "collapsed": true
   },
   "outputs": [],
   "source": [
    "# Loads the training and test data sets (ignoring class labels)\n",
    "(x_train, _), (x_test, _) = mnist.load_data()"
   ]
  },
  {
   "cell_type": "code",
   "execution_count": 3,
   "metadata": {
    "collapsed": true
   },
   "outputs": [],
   "source": [
    "# Scales the training and test data to range between 0 and 1.\n",
    "max_value = float(x_train.max())\n",
    "x_train = x_train.astype('float32') / max_value\n",
    "x_test = x_test.astype('float32') / max_value"
   ]
  },
  {
   "cell_type": "code",
   "execution_count": 4,
   "metadata": {},
   "outputs": [
    {
     "data": {
      "text/plain": [
       "(60000, 28, 28)"
      ]
     },
     "execution_count": 4,
     "metadata": {},
     "output_type": "execute_result"
    }
   ],
   "source": [
    "# 60K training 28 x 28 (pixel) images\n",
    "x_train.shape"
   ]
  },
  {
   "cell_type": "code",
   "execution_count": 5,
   "metadata": {},
   "outputs": [
    {
     "data": {
      "text/plain": [
       "(10000, 28, 28)"
      ]
     },
     "execution_count": 5,
     "metadata": {},
     "output_type": "execute_result"
    }
   ],
   "source": [
    "# 10K test 28 x 28 (pixel) images\n",
    "x_test.shape"
   ]
  },
  {
   "cell_type": "code",
   "execution_count": 6,
   "metadata": {},
   "outputs": [
    {
     "data": {
      "text/plain": [
       "((60000, 784), (10000, 784))"
      ]
     },
     "execution_count": 6,
     "metadata": {},
     "output_type": "execute_result"
    }
   ],
   "source": [
    "# Reshapes 28 x 28 images into vectors of length 784\n",
    "x_train = x_train.reshape((len(x_train), np.prod(x_train.shape[1:])))\n",
    "x_test = x_test.reshape((len(x_test), np.prod(x_test.shape[1:])))\n",
    "\n",
    "(x_train.shape, x_test.shape)"
   ]
  },
  {
   "cell_type": "code",
   "execution_count": 7,
   "metadata": {
    "collapsed": true
   },
   "outputs": [],
   "source": [
    "input_dim = x_train.shape[1]"
   ]
  },
  {
   "cell_type": "markdown",
   "metadata": {},
   "source": [
    "# Simple Autoencoder\n",
    "\n",
    "A single fully-connected neural layer as an encoder function and an decoder function."
   ]
  },
  {
   "cell_type": "code",
   "execution_count": 8,
   "metadata": {},
   "outputs": [
    {
     "name": "stdout",
     "output_type": "stream",
     "text": [
      "Compression factor: 24.5\n"
     ]
    }
   ],
   "source": [
    "# Size of our encoded representations\n",
    "encoding_dim = 32\n",
    "\n",
    "compression_factor = float(input_dim) / encoding_dim\n",
    "print(\"Compression factor: %s\" % compression_factor)\n",
    "\n",
    "# Input placeholder\n",
    "input_img = Input(shape=(input_dim,))\n",
    "\n",
    "# \"encoded\" is the encoded representation of the input\n",
    "encoded = Dense(encoding_dim, activation='relu')(input_img)\n",
    "# \"decoded\" is the lossy reconstruction of the input\n",
    "decoded = Dense(input_dim, activation='sigmoid')(encoded)\n",
    "\n",
    "# this model maps an input to its reconstruction\n",
    "autoencoder = Model(input_img, decoded)"
   ]
  },
  {
   "cell_type": "markdown",
   "metadata": {},
   "source": [
    "## Encoder Model"
   ]
  },
  {
   "cell_type": "code",
   "execution_count": 9,
   "metadata": {
    "collapsed": true
   },
   "outputs": [],
   "source": [
    "# this model maps an input to its encoded representation\n",
    "encoder = Model(input_img, encoded)"
   ]
  },
  {
   "cell_type": "markdown",
   "metadata": {},
   "source": [
    "## Decoder Model"
   ]
  },
  {
   "cell_type": "code",
   "execution_count": 10,
   "metadata": {
    "collapsed": true
   },
   "outputs": [],
   "source": [
    "# create a placeholder for an encoded (32-dimensional) input\n",
    "encoded_input = Input(shape=(encoding_dim,))\n",
    "# retrieve the last layer of the autoencoder model\n",
    "decoder_layer = autoencoder.layers[-1]\n",
    "# create the decoder model\n",
    "decoder = Model(encoded_input, decoder_layer(encoded_input))"
   ]
  },
  {
   "cell_type": "code",
   "execution_count": 11,
   "metadata": {},
   "outputs": [
    {
     "name": "stdout",
     "output_type": "stream",
     "text": [
      "Train on 60000 samples, validate on 10000 samples\n",
      "Epoch 1/50\n",
      "60000/60000 [==============================] - 7s - loss: 0.2690 - val_loss: 0.1800\n",
      "Epoch 2/50\n",
      "60000/60000 [==============================] - 7s - loss: 0.1648 - val_loss: 0.1507\n",
      "Epoch 3/50\n",
      "60000/60000 [==============================] - 7s - loss: 0.1423 - val_loss: 0.1328\n",
      "Epoch 4/50\n",
      "60000/60000 [==============================] - 7s - loss: 0.1278 - val_loss: 0.1207\n",
      "Epoch 5/50\n",
      "60000/60000 [==============================] - 7s - loss: 0.1173 - val_loss: 0.1117\n",
      "Epoch 6/50\n",
      "60000/60000 [==============================] - 6s - loss: 0.1098 - val_loss: 0.1055\n",
      "Epoch 7/50\n",
      "60000/60000 [==============================] - 6s - loss: 0.1045 - val_loss: 0.1012\n",
      "Epoch 8/50\n",
      "60000/60000 [==============================] - 5s - loss: 0.1009 - val_loss: 0.0982\n",
      "Epoch 9/50\n",
      "60000/60000 [==============================] - 5s - loss: 0.0985 - val_loss: 0.0963\n",
      "Epoch 10/50\n",
      "60000/60000 [==============================] - 7s - loss: 0.0969 - val_loss: 0.0950\n",
      "Epoch 11/50\n",
      "60000/60000 [==============================] - 7s - loss: 0.0958 - val_loss: 0.0941\n",
      "Epoch 12/50\n",
      "60000/60000 [==============================] - 7s - loss: 0.0952 - val_loss: 0.0936\n",
      "Epoch 13/50\n",
      "60000/60000 [==============================] - 7s - loss: 0.0947 - val_loss: 0.0932\n",
      "Epoch 14/50\n",
      "60000/60000 [==============================] - 7s - loss: 0.0944 - val_loss: 0.0929\n",
      "Epoch 15/50\n",
      "60000/60000 [==============================] - 7s - loss: 0.0941 - val_loss: 0.0927\n",
      "Epoch 16/50\n",
      "60000/60000 [==============================] - 7s - loss: 0.0939 - val_loss: 0.0925\n",
      "Epoch 17/50\n",
      "60000/60000 [==============================] - 6s - loss: 0.0937 - val_loss: 0.0924\n",
      "Epoch 18/50\n",
      "60000/60000 [==============================] - 7s - loss: 0.0936 - val_loss: 0.0923\n",
      "Epoch 19/50\n",
      "60000/60000 [==============================] - 7s - loss: 0.0934 - val_loss: 0.0922\n",
      "Epoch 20/50\n",
      "60000/60000 [==============================] - 6s - loss: 0.0933 - val_loss: 0.0920\n",
      "Epoch 21/50\n",
      "60000/60000 [==============================] - 6s - loss: 0.0933 - val_loss: 0.0920\n",
      "Epoch 22/50\n",
      "60000/60000 [==============================] - 5s - loss: 0.0932 - val_loss: 0.0919\n",
      "Epoch 23/50\n",
      "60000/60000 [==============================] - 5s - loss: 0.0931 - val_loss: 0.0919\n",
      "Epoch 24/50\n",
      "60000/60000 [==============================] - 5s - loss: 0.0931 - val_loss: 0.0919\n",
      "Epoch 25/50\n",
      "60000/60000 [==============================] - 6s - loss: 0.0930 - val_loss: 0.0917\n",
      "Epoch 26/50\n",
      "60000/60000 [==============================] - 6s - loss: 0.0930 - val_loss: 0.0918\n",
      "Epoch 27/50\n",
      "60000/60000 [==============================] - 7s - loss: 0.0929 - val_loss: 0.0917\n",
      "Epoch 28/50\n",
      "60000/60000 [==============================] - 7s - loss: 0.0929 - val_loss: 0.0918\n",
      "Epoch 29/50\n",
      "60000/60000 [==============================] - 7s - loss: 0.0929 - val_loss: 0.0916\n",
      "Epoch 30/50\n",
      "60000/60000 [==============================] - 7s - loss: 0.0928 - val_loss: 0.0918\n",
      "Epoch 31/50\n",
      "60000/60000 [==============================] - 7s - loss: 0.0928 - val_loss: 0.0915\n",
      "Epoch 32/50\n",
      "60000/60000 [==============================] - 7s - loss: 0.0928 - val_loss: 0.0915\n",
      "Epoch 33/50\n",
      "60000/60000 [==============================] - 7s - loss: 0.0928 - val_loss: 0.0916\n",
      "Epoch 34/50\n",
      "60000/60000 [==============================] - 7s - loss: 0.0927 - val_loss: 0.0917\n",
      "Epoch 35/50\n",
      "60000/60000 [==============================] - 7s - loss: 0.0927 - val_loss: 0.0915\n",
      "Epoch 36/50\n",
      "60000/60000 [==============================] - 7s - loss: 0.0927 - val_loss: 0.0916\n",
      "Epoch 37/50\n",
      "60000/60000 [==============================] - 6s - loss: 0.0927 - val_loss: 0.0915\n",
      "Epoch 38/50\n",
      "60000/60000 [==============================] - 7s - loss: 0.0927 - val_loss: 0.0915\n",
      "Epoch 39/50\n",
      "60000/60000 [==============================] - 7s - loss: 0.0927 - val_loss: 0.0914\n",
      "Epoch 40/50\n",
      "60000/60000 [==============================] - 7s - loss: 0.0926 - val_loss: 0.0915\n",
      "Epoch 41/50\n",
      "60000/60000 [==============================] - 6s - loss: 0.0926 - val_loss: 0.0915\n",
      "Epoch 42/50\n",
      "60000/60000 [==============================] - 6s - loss: 0.0926 - val_loss: 0.0914\n",
      "Epoch 43/50\n",
      "60000/60000 [==============================] - 7s - loss: 0.0926 - val_loss: 0.0915\n",
      "Epoch 44/50\n",
      "60000/60000 [==============================] - 7s - loss: 0.0926 - val_loss: 0.0915\n",
      "Epoch 45/50\n",
      "60000/60000 [==============================] - 7s - loss: 0.0926 - val_loss: 0.0915\n",
      "Epoch 46/50\n",
      "60000/60000 [==============================] - 7s - loss: 0.0926 - val_loss: 0.0914\n",
      "Epoch 47/50\n",
      "60000/60000 [==============================] - 7s - loss: 0.0926 - val_loss: 0.0914\n",
      "Epoch 48/50\n",
      "60000/60000 [==============================] - 7s - loss: 0.0925 - val_loss: 0.0914\n",
      "Epoch 49/50\n",
      "60000/60000 [==============================] - 7s - loss: 0.0925 - val_loss: 0.0914\n",
      "Epoch 50/50\n",
      "60000/60000 [==============================] - 7s - loss: 0.0925 - val_loss: 0.0914\n"
     ]
    },
    {
     "data": {
      "text/plain": [
       "<keras.callbacks.History at 0x7fb5885da510>"
      ]
     },
     "execution_count": 11,
     "metadata": {},
     "output_type": "execute_result"
    }
   ],
   "source": [
    "# Trains the model, iterating on the training data in batches of 256 in 50 epochs.\n",
    "# Using the Adam optimizer and per-pixel binary crossentropy loss.\n",
    "autoencoder.compile(optimizer='adam', loss='binary_crossentropy')\n",
    "autoencoder.fit(x_train, x_train,\n",
    "                epochs=50,\n",
    "                batch_size=256,\n",
    "                shuffle=True,\n",
    "                validation_data=(x_test, x_test))"
   ]
  },
  {
   "cell_type": "code",
   "execution_count": 12,
   "metadata": {},
   "outputs": [
    {
     "data": {
      "text/plain": [
       "8.8040323"
      ]
     },
     "execution_count": 12,
     "metadata": {},
     "output_type": "execute_result"
    }
   ],
   "source": [
    "# encode and decode some digits from the test set\n",
    "encoded_imgs = encoder.predict(x_test)\n",
    "decoded_imgs = decoder.predict(encoded_imgs)\n",
    "\n",
    "encoded_imgs.mean()"
   ]
  },
  {
   "cell_type": "code",
   "execution_count": 13,
   "metadata": {},
   "outputs": [
    {
     "data": {
      "image/png": "[encoded data removed]",
      "text/plain": [
       "<matplotlib.figure.Figure at 0x7fb5874a1910>"
      ]
     },
     "metadata": {},
     "output_type": "display_data"
    }
   ],
   "source": [
    "# Number of digits to display\n",
    "n = 10  \n",
    "plt.figure(figsize=(18, 4))\n",
    "\n",
    "for i in range(n):\n",
    "    # plot original image\n",
    "    ax = plt.subplot(3, n, i + 1)\n",
    "    plt.imshow(x_test[i].reshape(28, 28))\n",
    "    plt.gray()\n",
    "    ax.get_xaxis().set_visible(False)\n",
    "    ax.get_yaxis().set_visible(False)\n",
    "    \n",
    "    # plot encoded image\n",
    "    ax = plt.subplot(3, n, n + i + 1)\n",
    "    plt.imshow(encoded_imgs[i].reshape(8, 4))\n",
    "    plt.gray()\n",
    "    ax.get_xaxis().set_visible(False)\n",
    "    ax.get_yaxis().set_visible(False)\n",
    "\n",
    "    # plot reconstructed image\n",
    "    ax = plt.subplot(3, n, 2*n + i + 1)\n",
    "    plt.imshow(decoded_imgs[i].reshape(28, 28))\n",
    "    plt.gray()\n",
    "    ax.get_xaxis().set_visible(False)\n",
    "    ax.get_yaxis().set_visible(False)\n",
    "plt.show()"
   ]
  },
  {
   "cell_type": "markdown",
   "metadata": {},
   "source": [
    "***\n",
    "\n",
    "# Deep Autoencoder\n",
    "\n",
    "Instead of limiting ourselves to a single fully-connected neural layer, we can stack multiple layers in the encoder and decoder functions.\n",
    "\n",
    "The reconstructed digits look much better than those from the single-layer autoencoder."
   ]
  },
  {
   "cell_type": "code",
   "execution_count": 14,
   "metadata": {},
   "outputs": [
    {
     "name": "stdout",
     "output_type": "stream",
     "text": [
      "Compression factor: 24.5\n"
     ]
    }
   ],
   "source": [
    "encoding_dim = 32\n",
    "\n",
    "compression_factor = float(input_dim) / encoding_dim\n",
    "print(\"Compression factor: %s\" % compression_factor)\n",
    "\n",
    "input_img = Input(shape=(input_dim,))\n",
    "encoded = Dense(128, activation='relu')(input_img)\n",
    "encoded = Dense(64, activation='relu')(encoded)\n",
    "encoded = Dense(encoding_dim, activation='relu')(encoded)\n",
    "\n",
    "decoded = Dense(64, activation='relu')(encoded)\n",
    "decoded = Dense(128, activation='relu')(decoded)\n",
    "decoded = Dense(input_dim, activation='sigmoid')(decoded)\n",
    "\n",
    "autoencoder = Model(input_img, decoded)"
   ]
  },
  {
   "cell_type": "markdown",
   "metadata": {},
   "source": [
    "## Encoder Model"
   ]
  },
  {
   "cell_type": "code",
   "execution_count": 15,
   "metadata": {
    "collapsed": true
   },
   "outputs": [],
   "source": [
    "# Maps an input image to its encoded representation\n",
    "encoder = Model(input_img, encoded)"
   ]
  },
  {
   "cell_type": "markdown",
   "metadata": {},
   "source": [
    "## Decoder Model"
   ]
  },
  {
   "cell_type": "code",
   "execution_count": 16,
   "metadata": {},
   "outputs": [],
   "source": [
    "# create a placeholder for an encoded (32-dimensional) input\n",
    "decoded_input = Input(shape=(encoding_dim,))\n",
    "\n",
    "# retrieve the last 3 layers of the autoencoder model to get the decoder layers\n",
    "decoder_layer1 = autoencoder.layers[-3]\n",
    "decoder_layer2 = autoencoder.layers[-2]\n",
    "decoder_layer3 = autoencoder.layers[-1]\n",
    "decoder_layers = decoder_layer3(decoder_layer2(decoder_layer1(encoded_input)))\n",
    "\n",
    "# create the decoder model\n",
    "decoder = Model(encoded_input, decoder_layers)"
   ]
  },
  {
   "cell_type": "code",
   "execution_count": 17,
   "metadata": {},
   "outputs": [
    {
     "name": "stdout",
     "output_type": "stream",
     "text": [
      "Train on 60000 samples, validate on 10000 samples\n",
      "Epoch 1/50\n",
      "60000/60000 [==============================] - 10s - loss: 0.2427 - val_loss: 0.1690\n",
      "Epoch 2/50\n",
      "60000/60000 [==============================] - 10s - loss: 0.1536 - val_loss: 0.1409\n",
      "Epoch 3/50\n",
      "60000/60000 [==============================] - 9s - loss: 0.1349 - val_loss: 0.1284\n",
      "Epoch 4/50\n",
      "60000/60000 [==============================] - 10s - loss: 0.1265 - val_loss: 0.1222\n",
      "Epoch 5/50\n",
      "60000/60000 [==============================] - 10s - loss: 0.1203 - val_loss: 0.1165\n",
      "Epoch 6/50\n",
      "60000/60000 [==============================] - 10s - loss: 0.1157 - val_loss: 0.1134\n",
      "Epoch 7/50\n",
      "60000/60000 [==============================] - 10s - loss: 0.1124 - val_loss: 0.1098\n",
      "Epoch 8/50\n",
      "60000/60000 [==============================] - 10s - loss: 0.1094 - val_loss: 0.1068\n",
      "Epoch 9/50\n",
      "60000/60000 [==============================] - 10s - loss: 0.1074 - val_loss: 0.1051\n",
      "Epoch 10/50\n",
      "60000/60000 [==============================] - 10s - loss: 0.1058 - val_loss: 0.1038\n",
      "Epoch 11/50\n",
      "60000/60000 [==============================] - 10s - loss: 0.1044 - val_loss: 0.1026\n",
      "Epoch 12/50\n",
      "60000/60000 [==============================] - 10s - loss: 0.1031 - val_loss: 0.1012\n",
      "Epoch 13/50\n",
      "60000/60000 [==============================] - 10s - loss: 0.1019 - val_loss: 0.1000\n",
      "Epoch 14/50\n",
      "60000/60000 [==============================] - 10s - loss: 0.1008 - val_loss: 0.0992\n",
      "Epoch 15/50\n",
      "60000/60000 [==============================] - 10s - loss: 0.0999 - val_loss: 0.0985\n",
      "Epoch 16/50\n",
      "60000/60000 [==============================] - 10s - loss: 0.0990 - val_loss: 0.0975\n",
      "Epoch 17/50\n",
      "60000/60000 [==============================] - 10s - loss: 0.0983 - val_loss: 0.0972\n",
      "Epoch 18/50\n",
      "60000/60000 [==============================] - 10s - loss: 0.0975 - val_loss: 0.0960\n",
      "Epoch 19/50\n",
      "60000/60000 [==============================] - 10s - loss: 0.0968 - val_loss: 0.0955\n",
      "Epoch 20/50\n",
      "60000/60000 [==============================] - 10s - loss: 0.0962 - val_loss: 0.0953\n",
      "Epoch 21/50\n",
      "60000/60000 [==============================] - 10s - loss: 0.0956 - val_loss: 0.0949\n",
      "Epoch 22/50\n",
      "60000/60000 [==============================] - 10s - loss: 0.0952 - val_loss: 0.0942\n",
      "Epoch 23/50\n",
      "60000/60000 [==============================] - 10s - loss: 0.0948 - val_loss: 0.0938\n",
      "Epoch 24/50\n",
      "60000/60000 [==============================] - 10s - loss: 0.0944 - val_loss: 0.0935\n",
      "Epoch 25/50\n",
      "60000/60000 [==============================] - 10s - loss: 0.0941 - val_loss: 0.0932\n",
      "Epoch 26/50\n",
      "60000/60000 [==============================] - 10s - loss: 0.0937 - val_loss: 0.0929\n",
      "Epoch 27/50\n",
      "60000/60000 [==============================] - 10s - loss: 0.0934 - val_loss: 0.0927\n",
      "Epoch 28/50\n",
      "60000/60000 [==============================] - 9s - loss: 0.0932 - val_loss: 0.0922\n",
      "Epoch 29/50\n",
      "60000/60000 [==============================] - 9s - loss: 0.0928 - val_loss: 0.0921\n",
      "Epoch 30/50\n",
      "60000/60000 [==============================] - 9s - loss: 0.0926 - val_loss: 0.0917\n",
      "Epoch 31/50\n",
      "60000/60000 [==============================] - 9s - loss: 0.0924 - val_loss: 0.0914\n",
      "Epoch 32/50\n",
      "60000/60000 [==============================] - 10s - loss: 0.0920 - val_loss: 0.0912\n",
      "Epoch 33/50\n",
      "60000/60000 [==============================] - 10s - loss: 0.0919 - val_loss: 0.0915\n",
      "Epoch 34/50\n",
      "60000/60000 [==============================] - 10s - loss: 0.0917 - val_loss: 0.0910\n",
      "Epoch 35/50\n",
      "60000/60000 [==============================] - 10s - loss: 0.0916 - val_loss: 0.0907\n",
      "Epoch 36/50\n",
      "60000/60000 [==============================] - 10s - loss: 0.0913 - val_loss: 0.0909\n",
      "Epoch 37/50\n",
      "60000/60000 [==============================] - 10s - loss: 0.0911 - val_loss: 0.0902\n",
      "Epoch 38/50\n",
      "60000/60000 [==============================] - 9s - loss: 0.0910 - val_loss: 0.0908\n",
      "Epoch 39/50\n",
      "60000/60000 [==============================] - 10s - loss: 0.0908 - val_loss: 0.0899\n",
      "Epoch 40/50\n",
      "60000/60000 [==============================] - 9s - loss: 0.0907 - val_loss: 0.0904\n",
      "Epoch 41/50\n",
      "60000/60000 [==============================] - 9s - loss: 0.0905 - val_loss: 0.0904\n",
      "Epoch 42/50\n",
      "60000/60000 [==============================] - 10s - loss: 0.0903 - val_loss: 0.0897\n",
      "Epoch 43/50\n",
      "60000/60000 [==============================] - 10s - loss: 0.0902 - val_loss: 0.0899\n",
      "Epoch 44/50\n",
      "60000/60000 [==============================] - 10s - loss: 0.0901 - val_loss: 0.0895\n",
      "Epoch 45/50\n",
      "60000/60000 [==============================] - 10s - loss: 0.0900 - val_loss: 0.0892\n",
      "Epoch 46/50\n",
      "60000/60000 [==============================] - 10s - loss: 0.0899 - val_loss: 0.0895\n",
      "Epoch 47/50\n",
      "60000/60000 [==============================] - 9s - loss: 0.0898 - val_loss: 0.0891\n",
      "Epoch 48/50\n",
      "60000/60000 [==============================] - 10s - loss: 0.0896 - val_loss: 0.0893\n",
      "Epoch 49/50\n",
      "60000/60000 [==============================] - 11s - loss: 0.0895 - val_loss: 0.0892\n",
      "Epoch 50/50\n",
      "60000/60000 [==============================] - 10s - loss: 0.0894 - val_loss: 0.0886\n"
     ]
    },
    {
     "data": {
      "text/plain": [
       "<keras.callbacks.History at 0x7fb57823e450>"
      ]
     },
     "execution_count": 17,
     "metadata": {},
     "output_type": "execute_result"
    }
   ],
   "source": [
    "# Trains the model, iterating on the training data in batches of 256 in 50 epochs.\n",
    "# Using the Adam optimizer and per-pixel binary crossentropy loss.\n",
    "autoencoder.compile(optimizer='adam', loss='binary_crossentropy')\n",
    "autoencoder.fit(x_train, x_train,\n",
    "                epochs=50,\n",
    "                batch_size=256,\n",
    "                validation_data=(x_test, x_test))"
   ]
  },
  {
   "cell_type": "code",
   "execution_count": 18,
   "metadata": {},
   "outputs": [],
   "source": [
    "# encode and decode some digits from the test set\n",
    "encoded_imgs = encoder.predict(x_test)\n",
    "decoded_imgs = decoder.predict(encoded_imgs)"
   ]
  },
  {
   "cell_type": "code",
   "execution_count": 19,
   "metadata": {},
   "outputs": [
    {
     "data": {
      "text/plain": [
       "15.508153"
      ]
     },
     "execution_count": 19,
     "metadata": {},
     "output_type": "execute_result"
    }
   ],
   "source": [
    "encoded_imgs.mean()"
   ]
  },
  {
   "cell_type": "code",
   "execution_count": 20,
   "metadata": {},
   "outputs": [
    {
     "data": {
      "image/png": "[encoded data removed]",
      "text/plain": [
       "<matplotlib.figure.Figure at 0x7fb57adc1a90>"
      ]
     },
     "metadata": {},
     "output_type": "display_data"
    }
   ],
   "source": [
    "# Number of digits to display\n",
    "n = 10  \n",
    "plt.figure(figsize=(18, 4))\n",
    "\n",
    "for i in range(n):\n",
    "    # plot original image\n",
    "    ax = plt.subplot(3, n, i + 1)\n",
    "    plt.imshow(x_test[i].reshape(28, 28))\n",
    "    plt.gray()\n",
    "    ax.get_xaxis().set_visible(False)\n",
    "    ax.get_yaxis().set_visible(False)\n",
    "    \n",
    "    # plot encoded image\n",
    "    ax = plt.subplot(3, n, n + i + 1)\n",
    "    plt.imshow(encoded_imgs[i].reshape(8, 4))\n",
    "    plt.gray()\n",
    "    ax.get_xaxis().set_visible(False)\n",
    "    ax.get_yaxis().set_visible(False)\n",
    "\n",
    "    # plot reconstructed image\n",
    "    ax = plt.subplot(3, n, 2*n + i + 1)\n",
    "    plt.imshow(decoded_imgs[i].reshape(28, 28))\n",
    "    plt.gray()\n",
    "    ax.get_xaxis().set_visible(False)\n",
    "    ax.get_yaxis().set_visible(False)\n",
    "plt.show()"
   ]
  },
  {
   "cell_type": "markdown",
   "metadata": {},
   "source": [
    "***\n",
    "\n",
    "# Convolutional Autoencoder\n",
    "\n",
    "Rather than using a feedforward neural net as encoder/decoder functions, let's consider instead convolutional neural networks, given that the input objects are images. In short, convolutional neural nets are simply better for images.\n",
    "\n",
    "Let's make the encoder function a stack of `Conv2D` and `MaxPooling2D` layers (max pooling being used for spatial down-sampling). We'll also make the decoder function a stack of `Conv2D` and `UpSampling2D` layers."
   ]
  },
  {
   "cell_type": "code",
   "execution_count": 21,
   "metadata": {
    "collapsed": true
   },
   "outputs": [],
   "source": [
    "# Reshapes images back to 28 x 28 x 1 for convolutional neural nets\n",
    "# The 1 is for 1 channel. RGB color would be 3 channels.\n",
    "x_train = x_train.reshape((len(x_train), 28, 28, 1))\n",
    "x_test = x_test.reshape((len(x_test), 28, 28, 1))"
   ]
  },
  {
   "cell_type": "code",
   "execution_count": 22,
   "metadata": {},
   "outputs": [],
   "source": [
    "input_img = Input(shape=(28, 28, 1))\n",
    "\n",
    "encoded = Conv2D(16, (3, 3), activation='relu', padding='same')(input_img)\n",
    "encoded = MaxPooling2D((2, 2), padding='same')(encoded)\n",
    "encoded = Conv2D(8, (3, 3), activation='relu', padding='same')(encoded)\n",
    "encoded = MaxPooling2D((2, 2), padding='same')(encoded)\n",
    "encoded = Conv2D(8, (3, 3), activation='relu', padding='same')(encoded)\n",
    "encoded = MaxPooling2D((2, 2), padding='same')(encoded)\n",
    "\n",
    "decoded = Conv2D(8, (3, 3), activation='relu', padding='same')(encoded)\n",
    "decoded = UpSampling2D((2, 2))(decoded)\n",
    "decoded = Conv2D(8, (3, 3), activation='relu', padding='same')(decoded)\n",
    "decoded = UpSampling2D((2, 2))(decoded)\n",
    "decoded = Conv2D(16, (3, 3), activation='relu')(decoded)\n",
    "decoded = UpSampling2D((2, 2))(decoded)\n",
    "decoded = Conv2D(1, (3, 3), activation='sigmoid', padding='same')(decoded)\n",
    "\n",
    "autoencoder = Model(input_img, decoded)"
   ]
  },
  {
   "cell_type": "code",
   "execution_count": 23,
   "metadata": {},
   "outputs": [
    {
     "name": "stdout",
     "output_type": "stream",
     "text": [
      "_________________________________________________________________\n",
      "Layer (type)                 Output Shape              Param #   \n",
      "=================================================================\n",
      "input_5 (InputLayer)         (None, 28, 28, 1)         0         \n",
      "_________________________________________________________________\n",
      "conv2d_1 (Conv2D)            (None, 28, 28, 16)        160       \n",
      "_________________________________________________________________\n",
      "max_pooling2d_1 (MaxPooling2 (None, 14, 14, 16)        0         \n",
      "_________________________________________________________________\n",
      "conv2d_2 (Conv2D)            (None, 14, 14, 8)         1160      \n",
      "_________________________________________________________________\n",
      "max_pooling2d_2 (MaxPooling2 (None, 7, 7, 8)           0         \n",
      "_________________________________________________________________\n",
      "conv2d_3 (Conv2D)            (None, 7, 7, 8)           584       \n",
      "_________________________________________________________________\n",
      "max_pooling2d_3 (MaxPooling2 (None, 4, 4, 8)           0         \n",
      "_________________________________________________________________\n",
      "conv2d_4 (Conv2D)            (None, 4, 4, 8)           584       \n",
      "_________________________________________________________________\n",
      "up_sampling2d_1 (UpSampling2 (None, 8, 8, 8)           0         \n",
      "_________________________________________________________________\n",
      "conv2d_5 (Conv2D)            (None, 8, 8, 8)           584       \n",
      "_________________________________________________________________\n",
      "up_sampling2d_2 (UpSampling2 (None, 16, 16, 8)         0         \n",
      "_________________________________________________________________\n",
      "conv2d_6 (Conv2D)            (None, 14, 14, 16)        1168      \n",
      "_________________________________________________________________\n",
      "up_sampling2d_3 (UpSampling2 (None, 28, 28, 16)        0         \n",
      "_________________________________________________________________\n",
      "conv2d_7 (Conv2D)            (None, 28, 28, 1)         145       \n",
      "=================================================================\n",
      "Total params: 4,385\n",
      "Trainable params: 4,385\n",
      "Non-trainable params: 0\n",
      "_________________________________________________________________\n"
     ]
    }
   ],
   "source": [
    "autoencoder.summary()"
   ]
  },
  {
   "cell_type": "code",
   "execution_count": 24,
   "metadata": {},
   "outputs": [
    {
     "name": "stdout",
     "output_type": "stream",
     "text": [
      "Train on 60000 samples, validate on 10000 samples\n",
      "Epoch 1/50\n",
      "60000/60000 [==============================] - 98s - loss: 0.2165 - val_loss: 0.1471\n",
      "Epoch 2/50\n",
      "60000/60000 [==============================] - 99s - loss: 0.1352 - val_loss: 0.1261\n",
      "Epoch 3/50\n",
      "60000/60000 [==============================] - 100s - loss: 0.1236 - val_loss: 0.1190\n",
      "Epoch 4/50\n",
      "60000/60000 [==============================] - 103s - loss: 0.1180 - val_loss: 0.1145\n",
      "Epoch 5/50\n",
      "60000/60000 [==============================] - 99s - loss: 0.1142 - val_loss: 0.1113\n",
      "Epoch 6/50\n",
      "60000/60000 [==============================] - 96s - loss: 0.1114 - val_loss: 0.1090\n",
      "Epoch 7/50\n",
      "60000/60000 [==============================] - 101s - loss: 0.1093 - val_loss: 0.1073\n",
      "Epoch 8/50\n",
      "60000/60000 [==============================] - 103s - loss: 0.1076 - val_loss: 0.1057\n",
      "Epoch 9/50\n",
      "60000/60000 [==============================] - 103s - loss: 0.1062 - val_loss: 0.1044\n",
      "Epoch 10/50\n",
      "60000/60000 [==============================] - 98s - loss: 0.1051 - val_loss: 0.1035\n",
      "Epoch 11/50\n",
      "60000/60000 [==============================] - 98s - loss: 0.1042 - val_loss: 0.1024\n",
      "Epoch 12/50\n",
      "60000/60000 [==============================] - 96s - loss: 0.1033 - val_loss: 0.1025\n",
      "Epoch 13/50\n",
      "60000/60000 [==============================] - 97s - loss: 0.1026 - val_loss: 0.1015\n",
      "Epoch 14/50\n",
      "60000/60000 [==============================] - 97s - loss: 0.1020 - val_loss: 0.1006\n",
      "Epoch 15/50\n",
      "60000/60000 [==============================] - 97s - loss: 0.1013 - val_loss: 0.1002\n",
      "Epoch 16/50\n",
      "60000/60000 [==============================] - 97s - loss: 0.1009 - val_loss: 0.1004\n",
      "Epoch 17/50\n",
      "60000/60000 [==============================] - 98s - loss: 0.1003 - val_loss: 0.0994\n",
      "Epoch 18/50\n",
      "60000/60000 [==============================] - 97s - loss: 0.0999 - val_loss: 0.0987\n",
      "Epoch 19/50\n",
      "60000/60000 [==============================] - 98s - loss: 0.0994 - val_loss: 0.0982\n",
      "Epoch 20/50\n",
      "60000/60000 [==============================] - 98s - loss: 0.0990 - val_loss: 0.0980\n",
      "Epoch 21/50\n",
      "60000/60000 [==============================] - 98s - loss: 0.0986 - val_loss: 0.0974\n",
      "Epoch 22/50\n",
      "60000/60000 [==============================] - 98s - loss: 0.0982 - val_loss: 0.0972\n",
      "Epoch 23/50\n",
      "60000/60000 [==============================] - 98s - loss: 0.0980 - val_loss: 0.0966\n",
      "Epoch 24/50\n",
      "60000/60000 [==============================] - 98s - loss: 0.0976 - val_loss: 0.0965\n",
      "Epoch 25/50\n",
      "60000/60000 [==============================] - 98s - loss: 0.0974 - val_loss: 0.0961\n",
      "Epoch 26/50\n",
      "60000/60000 [==============================] - 90s - loss: 0.0971 - val_loss: 0.0957\n",
      "Epoch 27/50\n",
      "60000/60000 [==============================] - 89s - loss: 0.0968 - val_loss: 0.0958\n",
      "Epoch 28/50\n",
      "60000/60000 [==============================] - 89s - loss: 0.0966 - val_loss: 0.0959\n",
      "Epoch 29/50\n",
      "60000/60000 [==============================] - 89s - loss: 0.0963 - val_loss: 0.0954\n",
      "Epoch 30/50\n",
      "60000/60000 [==============================] - 89s - loss: 0.0961 - val_loss: 0.0958\n",
      "Epoch 31/50\n",
      "60000/60000 [==============================] - 89s - loss: 0.0959 - val_loss: 0.0949\n",
      "Epoch 32/50\n",
      "60000/60000 [==============================] - 89s - loss: 0.0957 - val_loss: 0.0944\n",
      "Epoch 33/50\n",
      "60000/60000 [==============================] - 89s - loss: 0.0955 - val_loss: 0.0944\n",
      "Epoch 34/50\n",
      "60000/60000 [==============================] - 89s - loss: 0.0954 - val_loss: 0.0945\n",
      "Epoch 35/50\n",
      "60000/60000 [==============================] - 89s - loss: 0.0951 - val_loss: 0.0940\n",
      "Epoch 36/50\n",
      "60000/60000 [==============================] - 89s - loss: 0.0949 - val_loss: 0.0937\n",
      "Epoch 37/50\n",
      "60000/60000 [==============================] - 89s - loss: 0.0947 - val_loss: 0.0949\n",
      "Epoch 38/50\n",
      "60000/60000 [==============================] - 89s - loss: 0.0947 - val_loss: 0.0940\n",
      "Epoch 39/50\n",
      "60000/60000 [==============================] - 89s - loss: 0.0944 - val_loss: 0.0932\n",
      "Epoch 40/50\n",
      "60000/60000 [==============================] - 89s - loss: 0.0944 - val_loss: 0.0934\n",
      "Epoch 41/50\n",
      "60000/60000 [==============================] - 89s - loss: 0.0941 - val_loss: 0.0935\n",
      "Epoch 42/50\n",
      "60000/60000 [==============================] - 89s - loss: 0.0940 - val_loss: 0.0928\n",
      "Epoch 43/50\n",
      "60000/60000 [==============================] - 89s - loss: 0.0939 - val_loss: 0.0926\n",
      "Epoch 44/50\n",
      "60000/60000 [==============================] - 89s - loss: 0.0937 - val_loss: 0.0928\n",
      "Epoch 45/50\n",
      "60000/60000 [==============================] - 89s - loss: 0.0936 - val_loss: 0.0926\n",
      "Epoch 46/50\n",
      "60000/60000 [==============================] - 89s - loss: 0.0935 - val_loss: 0.0927\n",
      "Epoch 47/50\n",
      "60000/60000 [==============================] - 89s - loss: 0.0935 - val_loss: 0.0929\n",
      "Epoch 48/50\n",
      "60000/60000 [==============================] - 89s - loss: 0.0933 - val_loss: 0.0923\n",
      "Epoch 49/50\n",
      "60000/60000 [==============================] - 89s - loss: 0.0931 - val_loss: 0.0921\n",
      "Epoch 50/50\n",
      "60000/60000 [==============================] - 89s - loss: 0.0931 - val_loss: 0.0922\n"
     ]
    },
    {
     "data": {
      "text/plain": [
       "<keras.callbacks.History at 0x7fb57bc46a50>"
      ]
     },
     "execution_count": 24,
     "metadata": {},
     "output_type": "execute_result"
    }
   ],
   "source": [
    "# Trains the model, iterating on the training data in batches of 128 in 50 epochs.\n",
    "# Using the Adam optimizer and per-pixel binary crossentropy loss.\n",
    "autoencoder.compile(optimizer='adam', loss='binary_crossentropy')\n",
    "autoencoder.fit(x_train, x_train,\n",
    "                epochs=50,\n",
    "                batch_size=128,\n",
    "                validation_data=(x_test, x_test))"
   ]
  },
  {
   "cell_type": "code",
   "execution_count": 25,
   "metadata": {
    "collapsed": true
   },
   "outputs": [],
   "source": [
    "decoded_imgs = autoencoder.predict(x_test)"
   ]
  },
  {
   "cell_type": "code",
   "execution_count": 26,
   "metadata": {},
   "outputs": [
    {
     "data": {
      "image/png": "[encoded data removed]",
      "text/plain": [
       "<matplotlib.figure.Figure at 0x7fb57a58b6d0>"
      ]
     },
     "metadata": {},
     "output_type": "display_data"
    }
   ],
   "source": [
    "# Number of digits to display\n",
    "n = 10  \n",
    "plt.figure(figsize=(20, 4))\n",
    "\n",
    "for i in range(n):\n",
    "    # plot original image\n",
    "    ax = plt.subplot(2, n, i + 1)\n",
    "    plt.imshow(x_test[i].reshape(28, 28))\n",
    "    plt.gray()\n",
    "    ax.get_xaxis().set_visible(False)\n",
    "    ax.get_yaxis().set_visible(False)\n",
    "    \n",
    "    # plot reconstructed image\n",
    "    ax = plt.subplot(2, n, n + i + 1)\n",
    "    plt.imshow(decoded_imgs[i].reshape(28, 28))\n",
    "    plt.gray()\n",
    "    ax.get_xaxis().set_visible(False)\n",
    "    ax.get_yaxis().set_visible(False)\n",
    "plt.show()"
   ]
  },
  {
   "cell_type": "markdown",
   "metadata": {},
   "source": [
    "## Denoising Images with the Convolutional Autoencoder"
   ]
  },
  {
   "cell_type": "code",
   "execution_count": 30,
   "metadata": {
    "collapsed": true
   },
   "outputs": [],
   "source": [
    "# Add a bit of noise to the test images\n",
    "noise_factor = 0.25\n",
    "x_test_noisy = x_test + noise_factor * np.random.normal(loc=0.0, scale=1.0, size=x_test.shape) \n",
    "x_test_noisy = np.clip(x_test_noisy, 0., 1.)"
   ]
  },
  {
   "cell_type": "code",
   "execution_count": 31,
   "metadata": {},
   "outputs": [],
   "source": [
    "# Denoise test images\n",
    "x_test_denoised = autoencoder.predict(x_test_noisy)"
   ]
  },
  {
   "cell_type": "code",
   "execution_count": 32,
   "metadata": {},
   "outputs": [
    {
     "data": {
      "image/png": "[encoded data removed]",
      "text/plain": [
       "<matplotlib.figure.Figure at 0x7fb578909350>"
      ]
     },
     "metadata": {},
     "output_type": "display_data"
    }
   ],
   "source": [
    "# Number of digits to display\n",
    "n = 10  \n",
    "plt.figure(figsize=(20, 4))\n",
    "\n",
    "for i in range(n):\n",
    "    # plot original image\n",
    "    ax = plt.subplot(2, n, i + 1)\n",
    "    plt.imshow(x_test_noisy[i].reshape(28, 28))\n",
    "    plt.gray()\n",
    "    ax.get_xaxis().set_visible(False)\n",
    "    ax.get_yaxis().set_visible(False)\n",
    "    \n",
    "    # plot reconstructed image\n",
    "    ax = plt.subplot(2, n, n + i + 1)\n",
    "    plt.imshow(x_test_denoised[i].reshape(28, 28))\n",
    "    plt.gray()\n",
    "    ax.get_xaxis().set_visible(False)\n",
    "    ax.get_yaxis().set_visible(False)\n",
    "plt.show()"
   ]
  },
  {
   "cell_type": "code",
   "execution_count": null,
   "metadata": {
    "collapsed": true
   },
   "outputs": [],
   "source": []
  }
 ],
 "metadata": {
  "kernelspec": {
   "display_name": "Python 2",
   "language": "python",
   "name": "python2"
  },
  "language_info": {
   "codemirror_mode": {
    "name": "ipython",
    "version": 2
   },
   "file_extension": ".py",
   "mimetype": "text/x-python",
   "name": "python",
   "nbconvert_exporter": "python",
   "pygments_lexer": "ipython2",
   "version": "2.7.12"
  }
 },
 "nbformat": 4,
 "nbformat_minor": 2
}
