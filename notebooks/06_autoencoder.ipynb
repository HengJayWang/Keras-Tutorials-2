{
 "cells": [
  {
   "cell_type": "markdown",
   "metadata": {},
   "source": [
    "# Autoencoders\n",
    "\n",
    "In this notebook, I borrow heavily from [the Keras blog](https://blog.keras.io/building-autoencoders-in-keras.html). So rather than sprinkling references to the Keras blog throughout the notebook, just assume I stole it from [Francois Chollet](https://twitter.com/fchollet). Because open source or something.\n",
    "\n",
    "![stole from Keras blog](https://blog.keras.io/img/ae/autoencoder_schema.jpg)\n",
    "\n",
    "So, autoencoders. They're legit. They do perform data compression but not in the JPEG or MPEG way -- these fellas make some broad assumptions about images, sound, and video and apply compression based on the assumptions.\n",
    "\n",
    "Autoencoders **learn** (automatically) a lossy compression based on the data examples fed in. So the compression is specific to those examples.\n",
    "\n",
    "## What's Required\n",
    "\n",
    "Autoencoders require 3 things:\n",
    "\n",
    "1. Encoding function\n",
    "2. Decoding function\n",
    "3. Loss function describing the amount of information loss between the compressed and decompressed representations of the data examples and the decompressed representation (i.e. a \"loss\" function).\n",
    "\n",
    "The encoding/decoding functions are typically (parametric) neural nets and are differentiable with respect to the distance function. The differentiable part enables optimizing the parameters of the encoding/decoding functions to minimize the reconstruction loss.\n",
    "\n",
    "## What Are They Good For\n",
    "\n",
    "1. Data Denoising\n",
    "2. Dimension Reduction\n",
    "3. Data Visualization (basically the same as 2, but plots)\n",
    "\n",
    "For data denoising, think PCA, but nonlinear. In fact, if the encoder/decoder functions are linear, the result spans the space of the PCA solution. The nonlinear part is useful because they can capture, for example, multimodality in the feature space, which PCA can't.\n",
    "\n",
    "Dimension reduction is a direct result of the lossy compression of the algorithm. It can help with denoising and **pre-training** before building another ML algorithm. But is the compression good enough to replace JPEG or MPEG? Nope. And probably not anytime soon. But maybe one day."
   ]
  },
  {
   "cell_type": "code",
   "execution_count": 1,
   "metadata": {},
   "outputs": [
    {
     "name": "stderr",
     "output_type": "stream",
     "text": [
      "Using TensorFlow backend.\n"
     ]
    }
   ],
   "source": [
    "from IPython.display import Image, SVG\n",
    "import matplotlib.pyplot as plt\n",
    "\n",
    "%matplotlib inline\n",
    "\n",
    "import numpy as np\n",
    "import keras\n",
    "from keras.datasets import mnist\n",
    "from keras.models import Model, Sequential  # TODO: Rm Sequential?\n",
    "from keras.layers import Input, Dense"
   ]
  },
  {
   "cell_type": "markdown",
   "metadata": {},
   "source": [
    "# Data Loading and Preprocessing"
   ]
  },
  {
   "cell_type": "code",
   "execution_count": 2,
   "metadata": {},
   "outputs": [
    {
     "name": "stdout",
     "output_type": "stream",
     "text": [
      "Downloading data from https://s3.amazonaws.com/img-datasets/mnist.npz\n",
      "11321344/11490434 [============================>.] - ETA: 0s"
     ]
    }
   ],
   "source": [
    "# Loads the training and test data sets (ignoring class labels)\n",
    "(x_train, _), (x_test, _) = mnist.load_data()"
   ]
  },
  {
   "cell_type": "code",
   "execution_count": 3,
   "metadata": {
    "collapsed": true
   },
   "outputs": [],
   "source": [
    "# Scales the training and test data to range between 0 and 1.\n",
    "max_value = float(x_train.max())\n",
    "x_train = x_train.astype('float32') / max_value\n",
    "x_test = x_test.astype('float32') / max_value"
   ]
  },
  {
   "cell_type": "code",
   "execution_count": 4,
   "metadata": {},
   "outputs": [
    {
     "data": {
      "text/plain": [
       "(60000, 28, 28)"
      ]
     },
     "execution_count": 4,
     "metadata": {},
     "output_type": "execute_result"
    }
   ],
   "source": [
    "# 60K training 28 x 28 (pixel) images\n",
    "x_train.shape"
   ]
  },
  {
   "cell_type": "code",
   "execution_count": 5,
   "metadata": {},
   "outputs": [
    {
     "data": {
      "text/plain": [
       "(10000, 28, 28)"
      ]
     },
     "execution_count": 5,
     "metadata": {},
     "output_type": "execute_result"
    }
   ],
   "source": [
    "# 10K test 28 x 28 (pixel) images\n",
    "x_test.shape"
   ]
  },
  {
   "cell_type": "code",
   "execution_count": 6,
   "metadata": {},
   "outputs": [
    {
     "data": {
      "text/plain": [
       "((60000, 784), (10000, 784))"
      ]
     },
     "execution_count": 6,
     "metadata": {},
     "output_type": "execute_result"
    }
   ],
   "source": [
    "# Reshapes 28 x 28 images into vectors of length 784\n",
    "x_train = x_train.reshape((len(x_train), np.prod(x_train.shape[1:])))\n",
    "x_test = x_test.reshape((len(x_test), np.prod(x_test.shape[1:])))\n",
    "\n",
    "(x_train.shape, x_test.shape)"
   ]
  },
  {
   "cell_type": "code",
   "execution_count": 7,
   "metadata": {
    "collapsed": true
   },
   "outputs": [],
   "source": [
    "input_dim = x_train.shape[1]"
   ]
  },
  {
   "cell_type": "markdown",
   "metadata": {},
   "source": [
    "# Simple Autoencoder\n",
    "\n",
    "A single fully-connected neural layer as an encoder function and an decoder function."
   ]
  },
  {
   "cell_type": "code",
   "execution_count": 8,
   "metadata": {},
   "outputs": [
    {
     "name": "stdout",
     "output_type": "stream",
     "text": [
      "Compression factor: 21.7777777778\n"
     ]
    }
   ],
   "source": [
    "# Size of our encoded representations\n",
    "encoding_dim = 36\n",
    "\n",
    "compression_factor = float(input_dim) / encoding_dim\n",
    "print(\"Compression factor: %s\" % compression_factor)\n",
    "\n",
    "# Input placeholder\n",
    "input_img = Input(shape=(input_dim,))\n",
    "\n",
    "# \"encoded\" is the encoded representation of the input\n",
    "encoded = Dense(encoding_dim, activation='relu')(input_img)\n",
    "# \"decoded\" is the lossy reconstruction of the input\n",
    "decoded = Dense(input_dim, activation='sigmoid')(encoded)\n",
    "\n",
    "# this model maps an input to its reconstruction\n",
    "autoencoder = Model(input_img, decoded)"
   ]
  },
  {
   "cell_type": "markdown",
   "metadata": {},
   "source": [
    "## Encoder Model"
   ]
  },
  {
   "cell_type": "code",
   "execution_count": 9,
   "metadata": {
    "collapsed": true
   },
   "outputs": [],
   "source": [
    "# this model maps an input to its encoded representation\n",
    "encoder = Model(input_img, encoded)"
   ]
  },
  {
   "cell_type": "markdown",
   "metadata": {},
   "source": [
    "## Decoder Model"
   ]
  },
  {
   "cell_type": "code",
   "execution_count": 10,
   "metadata": {
    "collapsed": true
   },
   "outputs": [],
   "source": [
    "# create a placeholder for an encoded (36-dimensional) input\n",
    "encoded_input = Input(shape=(encoding_dim,))\n",
    "# retrieve the last layer of the autoencoder model\n",
    "decoder_layer = autoencoder.layers[-1]\n",
    "# create the decoder model\n",
    "decoder = Model(encoded_input, decoder_layer(encoded_input))"
   ]
  },
  {
   "cell_type": "code",
   "execution_count": 11,
   "metadata": {},
   "outputs": [
    {
     "name": "stdout",
     "output_type": "stream",
     "text": [
      "Train on 60000 samples, validate on 10000 samples\n",
      "Epoch 1/50\n",
      "60000/60000 [==============================] - 10s - loss: 0.3744 - val_loss: 0.2729\n",
      "Epoch 2/50\n",
      "60000/60000 [==============================] - 9s - loss: 0.2657 - val_loss: 0.2552\n",
      "Epoch 3/50\n",
      "60000/60000 [==============================] - 10s - loss: 0.2453 - val_loss: 0.2330\n",
      "Epoch 4/50\n",
      "60000/60000 [==============================] - 10s - loss: 0.2250 - val_loss: 0.2145\n",
      "Epoch 5/50\n",
      "60000/60000 [==============================] - 10s - loss: 0.2089 - val_loss: 0.2009\n",
      "Epoch 6/50\n",
      "60000/60000 [==============================] - 10s - loss: 0.1971 - val_loss: 0.1909\n",
      "Epoch 7/50\n",
      "60000/60000 [==============================] - 10s - loss: 0.1884 - val_loss: 0.1832\n",
      "Epoch 8/50\n",
      "60000/60000 [==============================] - 11s - loss: 0.1815 - val_loss: 0.1770\n",
      "Epoch 9/50\n",
      "60000/60000 [==============================] - 11s - loss: 0.1757 - val_loss: 0.1717\n",
      "Epoch 10/50\n",
      "60000/60000 [==============================] - 11s - loss: 0.1707 - val_loss: 0.1671\n",
      "Epoch 11/50\n",
      "60000/60000 [==============================] - 10s - loss: 0.1661 - val_loss: 0.1627\n",
      "Epoch 12/50\n",
      "60000/60000 [==============================] - 10s - loss: 0.1620 - val_loss: 0.1588\n",
      "Epoch 13/50\n",
      "60000/60000 [==============================] - 11s - loss: 0.1581 - val_loss: 0.1550\n",
      "Epoch 14/50\n",
      "60000/60000 [==============================] - 11s - loss: 0.1545 - val_loss: 0.1516\n",
      "Epoch 15/50\n",
      "60000/60000 [==============================] - 10s - loss: 0.1511 - val_loss: 0.1482\n",
      "Epoch 16/50\n",
      "60000/60000 [==============================] - 10s - loss: 0.1480 - val_loss: 0.1452\n",
      "Epoch 17/50\n",
      "60000/60000 [==============================] - 10s - loss: 0.1451 - val_loss: 0.1424\n",
      "Epoch 18/50\n",
      "60000/60000 [==============================] - 10s - loss: 0.1424 - val_loss: 0.1397\n",
      "Epoch 19/50\n",
      "60000/60000 [==============================] - 10s - loss: 0.1399 - val_loss: 0.1372\n",
      "Epoch 20/50\n",
      "60000/60000 [==============================] - 10s - loss: 0.1375 - val_loss: 0.1349\n",
      "Epoch 21/50\n",
      "60000/60000 [==============================] - 10s - loss: 0.1353 - val_loss: 0.1327\n",
      "Epoch 22/50\n",
      "60000/60000 [==============================] - 10s - loss: 0.1331 - val_loss: 0.1306\n",
      "Epoch 23/50\n",
      "60000/60000 [==============================] - 10s - loss: 0.1311 - val_loss: 0.1286\n",
      "Epoch 24/50\n",
      "60000/60000 [==============================] - 10s - loss: 0.1291 - val_loss: 0.1268\n",
      "Epoch 25/50\n",
      "60000/60000 [==============================] - 10s - loss: 0.1272 - val_loss: 0.1250\n",
      "Epoch 26/50\n",
      "60000/60000 [==============================] - 10s - loss: 0.1254 - val_loss: 0.1232\n",
      "Epoch 27/50\n",
      "60000/60000 [==============================] - 10s - loss: 0.1237 - val_loss: 0.1214\n",
      "Epoch 28/50\n",
      "60000/60000 [==============================] - 10s - loss: 0.1221 - val_loss: 0.1198\n",
      "Epoch 29/50\n",
      "60000/60000 [==============================] - 10s - loss: 0.1205 - val_loss: 0.1182\n",
      "Epoch 30/50\n",
      "60000/60000 [==============================] - 10s - loss: 0.1191 - val_loss: 0.1168\n",
      "Epoch 31/50\n",
      "60000/60000 [==============================] - 10s - loss: 0.1177 - val_loss: 0.1155\n",
      "Epoch 32/50\n",
      "60000/60000 [==============================] - 10s - loss: 0.1164 - val_loss: 0.1142\n",
      "Epoch 33/50\n",
      "60000/60000 [==============================] - 10s - loss: 0.1151 - val_loss: 0.1130\n",
      "Epoch 34/50\n",
      "60000/60000 [==============================] - 10s - loss: 0.1140 - val_loss: 0.1119\n",
      "Epoch 35/50\n",
      "60000/60000 [==============================] - 10s - loss: 0.1129 - val_loss: 0.1108\n",
      "Epoch 36/50\n",
      "60000/60000 [==============================] - 10s - loss: 0.1119 - val_loss: 0.1098\n",
      "Epoch 37/50\n",
      "60000/60000 [==============================] - 10s - loss: 0.1109 - val_loss: 0.1089\n",
      "Epoch 38/50\n",
      "60000/60000 [==============================] - 10s - loss: 0.1100 - val_loss: 0.1080\n",
      "Epoch 39/50\n",
      "60000/60000 [==============================] - 10s - loss: 0.1091 - val_loss: 0.1072\n",
      "Epoch 40/50\n",
      "60000/60000 [==============================] - 10s - loss: 0.1083 - val_loss: 0.1063\n",
      "Epoch 41/50\n",
      "60000/60000 [==============================] - 10s - loss: 0.1075 - val_loss: 0.1056\n",
      "Epoch 42/50\n",
      "60000/60000 [==============================] - 10s - loss: 0.1068 - val_loss: 0.1049\n",
      "Epoch 43/50\n",
      "60000/60000 [==============================] - 10s - loss: 0.1062 - val_loss: 0.1043\n",
      "Epoch 44/50\n",
      "60000/60000 [==============================] - 10s - loss: 0.1055 - val_loss: 0.1036\n",
      "Epoch 45/50\n",
      "60000/60000 [==============================] - 10s - loss: 0.1049 - val_loss: 0.1030\n",
      "Epoch 46/50\n",
      "60000/60000 [==============================] - 10s - loss: 0.1043 - val_loss: 0.1025\n",
      "Epoch 47/50\n",
      "60000/60000 [==============================] - 9s - loss: 0.1038 - val_loss: 0.1019\n",
      "Epoch 48/50\n",
      "60000/60000 [==============================] - 10s - loss: 0.1033 - val_loss: 0.1014\n",
      "Epoch 49/50\n",
      "60000/60000 [==============================] - 10s - loss: 0.1028 - val_loss: 0.1010\n",
      "Epoch 50/50\n",
      "60000/60000 [==============================] - 10s - loss: 0.1023 - val_loss: 0.1005\n"
     ]
    },
    {
     "data": {
      "text/plain": [
       "<keras.callbacks.History at 0x7f5fc96244d0>"
      ]
     },
     "execution_count": 11,
     "metadata": {},
     "output_type": "execute_result"
    }
   ],
   "source": [
    "# Trains the model, iterating on the training data in batches of 256 in 50 epochs.\n",
    "# Using the Adadelta optimizer and per-pixel binary crossentropy loss.\n",
    "autoencoder.compile(optimizer='adadelta', loss='binary_crossentropy')\n",
    "autoencoder.fit(x_train, x_train,\n",
    "                epochs=50,\n",
    "                batch_size=256,\n",
    "                shuffle=True,\n",
    "                validation_data=(x_test, x_test))"
   ]
  },
  {
   "cell_type": "code",
   "execution_count": 12,
   "metadata": {
    "collapsed": true
   },
   "outputs": [],
   "source": [
    "# encode and decode some digits\n",
    "# note that we take them from the *test* set\n",
    "encoded_imgs = encoder.predict(x_test)\n",
    "decoded_imgs = decoder.predict(encoded_imgs)"
   ]
  },
  {
   "cell_type": "code",
   "execution_count": 39,
   "metadata": {},
   "outputs": [
    {
     "data": {
      "image/png": "[encoded data removed]",
      "text/plain": [
       "<matplotlib.figure.Figure at 0x7f5fb3d622d0>"
      ]
     },
     "metadata": {},
     "output_type": "display_data"
    }
   ],
   "source": [
    "# Number of digits to display\n",
    "n = 10  \n",
    "plt.figure(figsize=(18, 4))\n",
    "\n",
    "for i in range(n):\n",
    "    # plot original image\n",
    "    ax = plt.subplot(3, n, i + 1)\n",
    "    plt.imshow(x_test[i].reshape(28, 28))\n",
    "    plt.gray()\n",
    "    ax.get_xaxis().set_visible(False)\n",
    "    ax.get_yaxis().set_visible(False)\n",
    "    \n",
    "    # plot encoded image\n",
    "    ax = plt.subplot(3, n, n + i + 1)\n",
    "    plt.imshow(encoded_imgs[i].reshape(6, 6))\n",
    "    plt.gray()\n",
    "    ax.get_xaxis().set_visible(False)\n",
    "    ax.get_yaxis().set_visible(False)\n",
    "\n",
    "    # plot reconstructed image\n",
    "    ax = plt.subplot(3, n, 2*n + i + 1)\n",
    "    plt.imshow(decoded_imgs[i].reshape(28, 28))\n",
    "    plt.gray()\n",
    "    ax.get_xaxis().set_visible(False)\n",
    "    ax.get_yaxis().set_visible(False)\n",
    "plt.show()"
   ]
  },
  {
   "cell_type": "code",
   "execution_count": null,
   "metadata": {
    "collapsed": true
   },
   "outputs": [],
   "source": []
  }
 ],
 "metadata": {
  "kernelspec": {
   "display_name": "Python 2",
   "language": "python",
   "name": "python2"
  },
  "language_info": {
   "codemirror_mode": {
    "name": "ipython",
    "version": 2
   },
   "file_extension": ".py",
   "mimetype": "text/x-python",
   "name": "python",
   "nbconvert_exporter": "python",
   "pygments_lexer": "ipython2",
   "version": "2.7.12"
  }
 },
 "nbformat": 4,
 "nbformat_minor": 2
}
